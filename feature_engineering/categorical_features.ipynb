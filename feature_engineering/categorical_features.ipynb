{
 "cells": [
  {
   "cell_type": "code",
   "execution_count": 1,
   "metadata": {},
   "outputs": [],
   "source": [
    "from sklearn.preprocessing import OneHotEncoder"
   ]
  },
  {
   "cell_type": "markdown",
   "metadata": {},
   "source": [
    "# Categorical Features\n",
    "\n",
    "Some algorithms only work when they are supplied with numerical features. For example, if you have a dataset of cars and you would like to recommend similar cars then colour may be an aspect you look at. A dataset containing car colours would need to be encoding into numerical features to be fed into the learning algorithm.\n",
    "\n",
    "## One-Hot Encoding\n",
    "\n",
    "Let's say our dataset of car colours contains the following colours:\n",
    "- Red\n",
    "- Green\n",
    "- Blue\n",
    "- Orange\n",
    "\n",
    "The is feature has 4 possible values. A method of converting this to numerical would be via one-hot encoding where each colour becomes a feature vector:\n",
    "- Red = [1, 0, 0, 0]\n",
    "- Green = [0, 1, 0, 0]\n",
    "- Blue = [0, 0, 1, 0]\n",
    "- Orange = [0, 0, 0, 1]\n",
    "\n",
    "The length of the feature vector corresponds to the number of colours in this feature (4) and where the value of the feature vector == 1 corresponds to the colour. Note, that this will enlarge your dataset by increasing the dimensionality.\n",
    "\n",
    "The method is implemented in sklearn:"
   ]
  },
  {
   "cell_type": "code",
   "execution_count": 4,
   "metadata": {},
   "outputs": [
    {
     "data": {
      "text/plain": [
       "OneHotEncoder(handle_unknown='ignore')"
      ]
     },
     "execution_count": 4,
     "metadata": {},
     "output_type": "execute_result"
    }
   ],
   "source": [
    "enc = OneHotEncoder(handle_unknown='ignore')\n",
    "X = [['Red'], ['Blue'], ['Red'], ['Orange'], ['Green']]\n",
    "enc.fit(X)"
   ]
  },
  {
   "cell_type": "code",
   "execution_count": 5,
   "metadata": {},
   "outputs": [
    {
     "data": {
      "text/plain": [
       "[array(['Blue', 'Green', 'Orange', 'Red'], dtype=object)]"
      ]
     },
     "execution_count": 5,
     "metadata": {},
     "output_type": "execute_result"
    }
   ],
   "source": [
    "enc.categories_"
   ]
  },
  {
   "cell_type": "markdown",
   "metadata": {},
   "source": [
    "The categories show the order in which the colours are encoded. `Blue` is at index `0` mean the blue array will be `[1, 0, 0, 0]`. The colour `Green` is encoded next, resulting in a green feature vector of `[0, 1, 0, 0]`"
   ]
  },
  {
   "cell_type": "code",
   "execution_count": 7,
   "metadata": {},
   "outputs": [
    {
     "data": {
      "text/plain": [
       "array([[0., 0., 0., 1.],\n",
       "       [1., 0., 0., 0.],\n",
       "       [0., 0., 0., 1.],\n",
       "       [0., 0., 1., 0.],\n",
       "       [0., 1., 0., 0.]])"
      ]
     },
     "execution_count": 7,
     "metadata": {},
     "output_type": "execute_result"
    }
   ],
   "source": [
    "enc.transform(X).toarray()"
   ]
  },
  {
   "cell_type": "code",
   "execution_count": 9,
   "metadata": {},
   "outputs": [
    {
     "name": "stdout",
     "output_type": "stream",
     "text": [
      "['Red'] [0. 0. 0. 1.]\n",
      "['Blue'] [1. 0. 0. 0.]\n",
      "['Red'] [0. 0. 0. 1.]\n",
      "['Orange'] [0. 0. 1. 0.]\n",
      "['Green'] [0. 1. 0. 0.]\n"
     ]
    }
   ],
   "source": [
    "for colour, feature_vector in zip(X, enc.transform(X).toarray()):\n",
    "    print(colour, feature_vector)"
   ]
  },
  {
   "cell_type": "code",
   "execution_count": null,
   "metadata": {},
   "outputs": [],
   "source": []
  }
 ],
 "metadata": {
  "kernelspec": {
   "display_name": "Python 3",
   "language": "python",
   "name": "python3"
  },
  "language_info": {
   "codemirror_mode": {
    "name": "ipython",
    "version": 3
   },
   "file_extension": ".py",
   "mimetype": "text/x-python",
   "name": "python",
   "nbconvert_exporter": "python",
   "pygments_lexer": "ipython3",
   "version": "3.7.6"
  }
 },
 "nbformat": 4,
 "nbformat_minor": 4
}
