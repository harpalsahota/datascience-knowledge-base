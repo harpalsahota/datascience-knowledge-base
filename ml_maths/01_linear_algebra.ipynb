{
 "cells": [
  {
   "cell_type": "code",
   "execution_count": 1,
   "metadata": {},
   "outputs": [],
   "source": [
    "import matplotlib.pyplot as plt"
   ]
  },
  {
   "attachments": {
    "e4142754-1191-47b3-95bd-3a93adc9159e.png": {
     "image/png": "[encoded data removed]"
    }
   },
   "cell_type": "markdown",
   "metadata": {},
   "source": [
    "# Linear Algebra\n",
    "\n",
    "Linear algebra is the study of vectors and rules to manipulate vectors. Vectors can be added together and multipled by scalars to produce another vector of the same kind.\n",
    "\n",
    "Scalar: a value with only magnitude, this is not a vector.\n",
    "\n",
    "#### Vector Examples\n",
    "\n",
    "##### Geometric Vectors\n",
    "These are directed segments and can be drawn in at least two dimensions. Usually define with\n",
    "an arrow e.g. $\\overrightarrow{x}$. Two geometric vectors can be added to make a new vector\n",
    "e.g. $\\overrightarrow{x} + \\overrightarrow{y} =  \\overrightarrow{z}$. These can also be manipulated by a\n",
    "scalar e.g. $\\lambda\\overrightarrow{x}$, $\\lambda\\in{\\rm I\\!R}$ is also a geometric vector. In this case the vector is\n",
    "scaled by $\\lambda$. Interpreting vectors as geometric enables us to infer direction and magnitude.\n",
    "\n",
    "![image.png](attachment:e4142754-1191-47b3-95bd-3a93adc9159e.png)\n",
    "\n",
    "_Geometric Vectors_\n",
    "\n",
    "##### Elements of ${\\rm I\\!R}^n$\n",
    "Elements of ${\\rm I\\!R}^n$ (tuples of real numbers) are vectors too e.g.\n",
    "\\begin{equation}\n",
    "a = \\begin{bmatrix}\n",
    "1\\\\\n",
    "2\\\\\n",
    "3\n",
    "\\end{bmatrix}\n",
    "\\in {\\rm I\\!R}^3\n",
    "\\end{equation}\n",
    "above what we have is a triplet of real numbers. Adding two vectors component wise ($a,b \\in{\\rm I\\!R}^n$) will result in a new\n",
    "vector $a+b=c \\in {\\rm I\\!R}^n$.If $a$ multiplied by a scalar $a \\in {\\rm I\\!R}^n$ by $\\lambda\\in{\\rm I\\!R}^n$ results in a scaled vector\n",
    "$\\lambda a \\in {\\rm I\\!R}^n$.\n",
    "\n",
    "The underlying properites of ML come from something called \"vector space\". The vector space is defined as a set of vectors that can result by starting with a small set of vectors, and adding them to each other and scaling them etc..."
   ]
  },
  {
   "cell_type": "code",
   "execution_count": null,
   "metadata": {},
   "outputs": [],
   "source": []
  }
 ],
 "metadata": {
  "kernelspec": {
   "display_name": "Python 3",
   "language": "python",
   "name": "python3"
  },
  "language_info": {
   "codemirror_mode": {
    "name": "ipython",
    "version": 3
   },
   "file_extension": ".py",
   "mimetype": "text/x-python",
   "name": "python",
   "nbconvert_exporter": "python",
   "pygments_lexer": "ipython3",
   "version": "3.7.6"
  }
 },
 "nbformat": 4,
 "nbformat_minor": 4
}
