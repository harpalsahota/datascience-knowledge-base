{
 "cells": [
  {
   "cell_type": "code",
   "execution_count": null,
   "id": "3e0e82e7-6bbe-4666-afcb-c10b84daceba",
   "metadata": {},
   "outputs": [],
   "source": []
  },
  {
   "cell_type": "code",
   "execution_count": null,
   "id": "c5cc2da1-5ec6-4000-b383-6ae9bdc724e2",
   "metadata": {},
   "outputs": [],
   "source": []
  },
  {
   "cell_type": "code",
   "execution_count": null,
   "id": "4f98a161-7fb9-4f7b-8653-f9b4b5ee19c2",
   "metadata": {},
   "outputs": [],
   "source": []
  },
  {
   "cell_type": "code",
   "execution_count": null,
   "id": "0214f9c1-2075-4a4b-8959-8e36b4a5fcef",
   "metadata": {},
   "outputs": [],
   "source": []
  },
  {
   "cell_type": "code",
   "execution_count": null,
   "id": "3cc58de4-0e50-41b7-93da-d9bc4ff4fdd0",
   "metadata": {},
   "outputs": [],
   "source": []
  },
  {
   "cell_type": "code",
   "execution_count": null,
   "id": "c26652d4-e1b5-46fc-8376-fab9bb0d262b",
   "metadata": {},
   "outputs": [],
   "source": []
  },
  {
   "cell_type": "code",
   "execution_count": null,
   "id": "298ef9a5-4431-4e84-97f4-fa3cc0cf7773",
   "metadata": {},
   "outputs": [],
   "source": [
    "\\mathcal{X}"
   ]
  },
  {
   "cell_type": "code",
   "execution_count": null,
   "id": "4ef7f81c-48cb-46d7-b389-635fa9a74c26",
   "metadata": {},
   "outputs": [],
   "source": [
    "\\mathbb{R}"
   ]
  }
 ],
 "metadata": {
  "kernelspec": {
   "display_name": "Python 3 (ipykernel)",
   "language": "python",
   "name": "python3"
  },
  "language_info": {
   "codemirror_mode": {
    "name": "ipython",
    "version": 3
   },
   "file_extension": ".py",
   "mimetype": "text/x-python",
   "name": "python",
   "nbconvert_exporter": "python",
   "pygments_lexer": "ipython3",
   "version": "3.8.7"
  }
 },
 "nbformat": 4,
 "nbformat_minor": 5
}
