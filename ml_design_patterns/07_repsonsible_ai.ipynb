{
 "cells": [
  {
   "cell_type": "markdown",
   "id": "27dc8f06-46de-4d32-b910-13286839eb3b",
   "metadata": {},
   "source": [
    "# Responsible AI\n",
    "\n",
    "Once a model is in prod. it's impact extends far beyond the teams who built it\n",
    "\n",
    "Several stakeholders for a model:\n",
    "- Model Builders\n",
    "    - Data Scientists and ML Researchers directly involved in building the model\n",
    "- ML Engineers\n",
    "    - Members of MLOPs teams directly involed in deploying the model\n",
    "- Business Decision Makers\n",
    "    - Decide to incoroportate the model into their business process or not\n",
    "    - Need to evaluate if the model is fit for purpose\n",
    "- End Users of ML systems\n",
    "    - Make us of predictions from an ML model.\n",
    "    - Example users: cutomers, employees and hybrids of these. \n",
    "- Regulatory and Compliance Agencies\n",
    "    - People and organisations who need to execturve-level summary of how a model is making decisions from a regulatory compliance perspective. This could include financial auditors, government agencies etc...\n",
    "    \n",
    "Heuristic Benchmark design pattern provides a way of putting the models performance in a context that end users and decision makes can understand. The explainable predictions pettern provides approaches to improving trust in ML systems by fostering an understanding of the signals a model is using to make predictions. The fairness lens design pattern aims to ensure that models behave equitable across different subsets of users and predictions scenarios."
   ]
  },
  {
   "cell_type": "code",
   "execution_count": null,
   "id": "63f6d803-5e93-4653-b6f3-912cbba6bf74",
   "metadata": {},
   "outputs": [],
   "source": []
  }
 ],
 "metadata": {
  "kernelspec": {
   "display_name": "Python 3 (ipykernel)",
   "language": "python",
   "name": "python3"
  },
  "language_info": {
   "codemirror_mode": {
    "name": "ipython",
    "version": 3
   },
   "file_extension": ".py",
   "mimetype": "text/x-python",
   "name": "python",
   "nbconvert_exporter": "python",
   "pygments_lexer": "ipython3",
   "version": "3.8.7"
  }
 },
 "nbformat": 4,
 "nbformat_minor": 5
}
