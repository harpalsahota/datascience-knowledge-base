{
 "cells": [
  {
   "cell_type": "markdown",
   "id": "11c9d8eb-4d7c-4477-8682-e3aaf0384146",
   "metadata": {},
   "source": [
    "# Connected Patterns"
   ]
  },
  {
   "cell_type": "code",
   "execution_count": null,
   "id": "05ee86f2-676d-484c-88dd-868de32ae295",
   "metadata": {},
   "outputs": [],
   "source": []
  }
 ],
 "metadata": {
  "kernelspec": {
   "display_name": "Python 3 (ipykernel)",
   "language": "python",
   "name": "python3"
  },
  "language_info": {
   "codemirror_mode": {
    "name": "ipython",
    "version": 3
   },
   "file_extension": ".py",
   "mimetype": "text/x-python",
   "name": "python",
   "nbconvert_exporter": "python",
   "pygments_lexer": "ipython3",
   "version": "3.8.7"
  }
 },
 "nbformat": 4,
 "nbformat_minor": 5
}
