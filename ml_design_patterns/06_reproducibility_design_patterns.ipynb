{
 "cells": [
  {
   "cell_type": "markdown",
   "metadata": {},
   "source": [
    "# Reproducibility Design Patterns\n",
    "\n",
    "- Unit testing produces a deterministic output\n",
    "- This reproducibility is difficult in ML\n",
    "- Many models start with random values which are adjusted during training\n",
    "- It is possible to set a `random_state` which returns the same results each time\n",
    "- Beyond random seed many other artifacts need to be fixed in order to ensure reproducibility during training\n",
    "- ML also has multiple stages e.g. training, deployment etc... need to ensure these are reproducible as well"
   ]
  },
  {
   "cell_type": "markdown",
   "metadata": {},
   "source": [
    "## Design Pattern 21: Transform\n",
    "\n",
    "- This pattern makes moving ML inot production easier by keeping inputs, features and transforms carfully separate\n",
    "\n",
    "### Probelm\n",
    "\n",
    "- Inputs to ML models are the not the features that the ML model uses\n",
    "- e.g. words are not directly used in models and need to be converted into some numerical form\n",
    "- Need to keep track of transforms otherwise we cant reproduce in prod\n",
    "\n",
    "\n",
    "- Training serving skew is casued by differences between trainijg and prod.\n",
    "- e.g. if wednesday is encoded into a 3 during training in prod we need to know that this is the case. Some libraries may encoded tuesday into a 3"
   ]
  },
  {
   "cell_type": "markdown",
   "metadata": {},
   "source": [
    "### Solution\n",
    "\n",
    "- Explcitily capture the transformations applied to convert the model inputs into features\n",
    "- In sklearn you would pickle the transformer\n",
    "- Load in the pickled transformer and use this to transform new data into the required model inputs"
   ]
  },
  {
   "cell_type": "markdown",
   "metadata": {},
   "source": [
    "## Design Pattern 22: Repeatable Splitting\n",
    "\n",
    "- Ensure that sampling is repeatable and reproducible\n",
    "- Needed for a determistic hash function to split data into train, test and validation\n",
    "\n",
    "### Problem \n",
    "\n",
    "- Not good to randomly split rows in data\n",
    "    - It's rare that rows in data are independent\n",
    "    - e.g. model to predict flight delays. A day with lots of delays, a lot of flights on that day will have delays. Having some of these flights in training and some in test is not right and leads to data leakage. The leakage is due to correlated rows and this is a common problem. We need to avoid this during ML training.\n",
    "- Randomly splitting rows is also bad as it can lead to a different dataset each time which is bad for reproducibility and comparing models.\n",
    "- Set a random seed on the splitting or store the data in advance to get around this\n",
    "\n",
    "- For ML we need repeatable splitting and ensure correlated rows fall into the same split.\n",
    "    - e.g. don't want flights on 28th June 2022 in both train and test set\n",
    "    \n",
    "### Solution\n",
    "\n",
    "- Find the column that caputres the correlation relationship between rows\n",
    "    - In our example of plane delays it would be the `date` column\n",
    "- Hash the values in the column and apply a modulo to split the data into train, validation and test\n",
    "    - All same flights for a given day will have the same hash value because they will occur on the same `date`\n",
    "    - This make it repeatable\n",
    "\n",
    "- Take the modulo of the has to ten e.g. `% 10`\n",
    "    - If the value is < 8 it goes into training\n",
    "    - If the value is =8 it goes into validation\n",
    "    - If the value is =9 it goes into test\n",
    "    - This is how we get the 80%, 10% and 10% split for training, validation and test sets\n",
    "    \n",
    "- The `date` column here make sense to split on because:\n",
    "    - Rows at the same date tend to be correlated\n",
    "    - `date` is not an input into the model. We can extract other features instead such as day of week.\n",
    "    - We must have enough `date` values. We are computing the hash and finding the modulo with respect to 10, we need at least 10 unique hash values. The more unique values we have the better. A rule of thumb: number of unique values should be 3 - 5x the denominator for the modulo. In our case we want 40 or so unique dates\n",
    "    - Labels have to well distributed among dates. If all delays happen on July 1st and no delays on other days of the year, this wouldn't work since the split dataset will be skewed\n",
    "    \n",
    "_We can automate checking whether the label distributions are similar across the three datasets by using the Kolomogorov-Smirnov test. Just plot the cumulative distributions functions of the label in the three datasets and find the maximum distance between each pair. The smaller the maximum distance, the better the split_\n",
    "\n",
    "### Trade-Offs and Alternatives\n",
    "\n",
    "#### Random Split\n",
    "\n",
    "- If the rows are not correlated we can do a random split which is repeatable\n",
    "- If there is no natural column to split by, hash the entire row of data by converting it to a string and take the modulo like above\n",
    "- If there are duplicate rows they will have the exact same hash and end up in the same split. If this is not what you desire add a unique ID column\n",
    "\n",
    "#### Split on Multiple Columns\n",
    "\n",
    "- If a combination of rows captures when two rows are correlated, simply concatenate the fields before computing the hash\n",
    "- This would help in the airport scenario above where we would concatenate the airport name and date, hash and then the modulo.\n",
    "\n",
    "#### Sequential Split\n",
    "\n",
    "- Time series will need sequential splits\n",
    "    - e.g. train on past 45 days to predict the next 14 days\n",
    "- Such splits also useful of fast changing environments\n",
    "    - e.g. bad actors in fraud quickly adapt to the fraud algorithm. As a result the model needs to be repeatably re-trained on  the lastest data.\n",
    "        - Not sufficient to generate random split from historical data because the goal is to predict behaviour that the bad actors will exhibit in the future\n",
    "        - The indirect goal is the same as that of a time-series model in that a good model will be able to train on historical data and predicit future fraud. The data has to be split sequentially in terms of time to corrrectly evaluate this.\n",
    "- Another place where sequential splits make sense is high correlations between successive times.\n",
    "    - e.g. weather forecasting.\n",
    "    - The weather on consecutive days is highly correlated\n",
    "    - Not reasonable to put Jan 14th in training set and Jan 15th in test set because there will be leakage\n",
    "\n",
    "#### Stratified Splits\n",
    "\n",
    "- Simple enough to google\n",
    "\n",
    "#### Unstructured Data\n",
    "\n",
    "- Photos, videos, text\n",
    "- Use meta data to split the samples\n",
    "    - Carefull of leakage e.g. videos shot on the same day"
   ]
  },
  {
   "cell_type": "markdown",
   "metadata": {},
   "source": [
    "## Design Pattern 23: Birdged Schema\n",
    "\n",
    "- Provides a way to adapt the data used to train a model from its older, original data schema to a newer, better data\n",
    "- Useful when input provider makes improvements to their feed it can take time to update the schema to the new data\n",
    "- This patterns allows us to use as much of the new data as is available, but augment it with some of the older data to improve accuracy\n",
    "\n",
    "### Probelm\n",
    "\n",
    "- We have a point of sale application that determines how much to tip the delivery driver\n",
    "- One of the inputs is \"cash\" or \"card\"\n",
    "- Card is then updated to now be \"gift card\", \"debit card\", \"credit card\"\n",
    "- This is valuable because the tipping behaviour varies between the cards\n",
    "- At prediction time this information is already available and we would like to use it as soon as possible\n",
    "- Cannot train a model on exclusively new data because the quantity of new data is rather small\n",
    "\n",
    "### Solution\n",
    "\n",
    "- The solution is to bridge the schema of the old data to match the new data\n",
    "- Then we train an ML model. using as much of the new data as is available and augment it with older data\n",
    "\n",
    "#### Bridged Schema\n",
    "\n",
    "- In the new schema the card category is much more granual (\"gift card\", \"debit card\", \"credit card\")\n",
    "- We know that as transaction coded as card will in the old data would have been on of these types but the actual type was not recorded\n",
    "- It is possible to bridge the schema probabilistically or statically\n",
    "- Static is recommended \n",
    "\n",
    "#### Probabilistic Method\n",
    "\n",
    "- Estimated from newer data that 10% are gift cards, 30% are debit cards and 60% are credit cards\n",
    "- Each time an older training example is loaded we generate a random number between \\[0, 100\\)\n",
    "    - < 10 = gift card\n",
    "    - \\[10, 40\\) = debit card\n",
    "    - >= 40 = credit card\n",
    "- Provided we train for enough epochs, any training example would be presented as all three categories, but proportional to the acutal frequency of occurrence\n",
    "- New training examples will use the actual recorded value\n",
    "\n",
    "\n",
    "- Justification is we treat each older example as having happened hundreds of times \n",
    "- As the trainer goes through the data, in each epoch, we simulate one of those instances\n",
    "- In the simulation, we expect that 10\\% of the time that a card was used the transaction would have occurred with a gift card"
   ]
  },
  {
   "cell_type": "markdown",
   "metadata": {},
   "source": [
    "#### Static Method\n",
    "\n",
    "- Categorical variables usually one-hot-encoded\n",
    "- If we train for long enough the average one-hot encoded value presented would be `[0, 0.1, 0.3, 0.6]` where the first value is the cash category\n",
    "\n",
    "\n",
    "- To bridge the older data to the newer schema we can transform the older categorial data into this representation where we insert the a priori probaiblity of the new classes as estimated from the training data.\n",
    "- Newer data on the other hand will have `[0, 0, 1, 0]` for a transaction that is know to have been paid by a debit card\n",
    "- Static method is preffered because it is effectively what happens if the proabilistic method runs for a long enough.\n",
    "- It is also simpler to implement since every card payment from the old data will ahve the exact same value (`[0, 0.1, 0.3, 0.6]`)\n",
    "- We can update the older data in one line of code\n",
    "- This is also compuationally less expensive \n",
    "\n",
    "#### Augmented Data\n",
    "\n",
    "- If 95% of old data is in the old schema and 5% in the new what should be the data split?\n",
    "- Models need to make predictions on new unseen data. The unseen data in this case will exclusively be in the new schema.\n",
    "- Could set aside 2,000 examples in the new schema and add this to your evaluation set along with some from the bridged schema.\n",
    "\n",
    "- How do we know 2,000 examples is enough? We can test this by evaluating the metric of the current production model (trained on old schema) on subsets of its evaluation datasest and determine how large the subset has to be before the evaluation metric is consistent.\n",
    "- Start with a randomly selected sample size of 100 and increase in steps of 100 to 5000. This is only for the new datapoints\n",
    "    - At each step take a random sample and calculate the evaluation metric\n",
    "    - Re-run each step 25 times to calculate the standard deviation of the metric\n",
    "    - Plot a graph where y-axis is evluation metric, x-axis is the evaluation size and the line drawn is the standard deviation of the evaluation metric at each step size\n",
    "    - Where line plateaus is where the ideal number of data points in evaluation size\n",
    "- Down side is we don't know how many older examples we need\n",
    "    - This is a hyperparameter we will need to tune\n",
    "- For best results, use the smalled number of older examples that we can get away with\n",
    "- Over time as the number of new examples grows, we'll rely less and less on bridges examples"
   ]
  },
  {
   "cell_type": "markdown",
   "metadata": {},
   "source": [
    "### Trade-Offs and Alternatives\n",
    "\n",
    "#### Union Schema\n",
    "\n",
    "- Could just take a union of both data sets, this would make the new and old datasets compatible so the possible values would be `[cash, card, debit card, credit card, gift card]`\n",
    "- But the new predictions won't have `card` as a value and thus breaks the schema!\n",
    "\n",
    "#### Cascade Method\n",
    "\n",
    "- Impute the value, could take mean.\n",
    "- Take priori frequencies as shown above\n",
    "\n",
    "\n",
    "- Can add a cascade model. See Design pattern 8.\n",
    "    - Train a model on the new data with card types\n",
    "    - Output of this model is used to train the second model\n",
    "    \n",
    "#### Handling New Features\n",
    "\n",
    "- Bridging might be needed when the input provider adds extra information\n",
    "- If we have new features that we want to use immediately, we should bridge the older data (where this new feature will be missing) by imputing a value for this feature\n",
    "- To imput we should try to use:\n",
    "    - The mean value of the feature if the feature is numeric and normally distributed\n",
    "    - The median if the feature is numeric and skewed or has lots of outliers\n",
    "    - Median value of the feature if the feature is categorical and sortable\n",
    "    - Mode of the feature if the featue is categorical and not sortable \n",
    "    - Frequency of the feature being true if it's boolean\n",
    "    \n",
    "- Taking the example of taxi journeys if the new feature is number of idle minutes we could use the median value \n",
    "- If the feature is a boolean for raining or not raining it's imputed value can be something line 0.02% if it rains 2% of the time in the new data\n",
    "\n",
    "- The cascade pattern approach remains viable for all these cases, but a static imputation is often simplier and often sufficient"
   ]
  },
  {
   "cell_type": "markdown",
   "metadata": {},
   "source": [
    "## Design Pattern 24: Windowed Inference\n",
    "\n",
    "- Handles instances where the model requires an ongoing sequence of instances in order to run inference\n",
    "- This pattern is useful when a ML model requires features that need to computed from aggregates over time windows "
   ]
  },
  {
   "cell_type": "markdown",
   "metadata": {},
   "source": [
    "## Problem\n",
    "\n",
    "- Imagine we have flight data looking at arrival delays for flights\n",
    "- The arrival delays will naturally exhibit variability\n",
    "- But it still should be possible to note unusually large arrival delays\n",
    "- The definition of \"unusual\" will vary by context\n",
    "    - Early in the day flights are delayed less\n",
    "    - In the afternoon flights are delayed more\n",
    "    - The context here is \"time of day\"\n",
    "\n",
    "\n",
    "- Determining a specific delay in anomalous depends on a time context.\n",
    "    - e.g. arrival delays observed over the past two hours\n",
    "- To determine that a delay is anomalous requires that we first sort the dataframe based on time\n",
    "- We then apply an anomaly detection function to sliding windows of two hourse\n",
    "- The function to detect the anomaly can be complex but a simple thing to do is highlight values 4 standard deviations from the mean in the two hour window\n",
    "\n",
    "\n",
    "- This works on training data because the entire dataframe is at hand\n",
    "- When running inference we will not have the entire dataframe available\n",
    "- In prod, we will be reciving flight information one by one as each flight arrives\n",
    "- All that we will have is a single delay value at a timestamp \n",
    "    - `2022-01-24 07:30:00, 43.0`\n",
    "- Given that the flight above is 43 minutes delayed is that unusual or not?\n",
    "- To carry out inference on a flight we only need the features of that flight\n",
    "- In this case, the model requires information about all flights to the airport between `05:30` and `07:30`\n",
    "- Is it not possible to carry out inference one flight at a time. We need to somehow provide the model information about all the previous flights\n",
    "\n",
    "\n",
    "- How do we carry out inference when the model requires not just one instance, but a sequence of instances?"
   ]
  },
  {
   "cell_type": "markdown",
   "metadata": {},
   "source": [
    "## Solution\n",
    "\n",
    "- Carry out stateful stream processng, that is processing that keeps track of the model state through time\n",
    "\n",
    "\n",
    "- Sliding window applied to flight arrival data.\n",
    "    - The sliding window will be over 2 hours but the window can be closed more often such as every 10 mins\n",
    "    - In such a case, aggregate values will be calculated every 10 mins over the previous 2 hours\n",
    "- Internal model state (this could be a list of flights) is updated with flight information every time a new flight arrives, thus building a 2-hour historical record of flight data\n",
    "- Every time a window is closed (e.g. every 10 mins), a time series ML model is trained on the 2-hour list of flights. This model is then used to predict future flight delays and the confidence bounds of such predictions\n",
    "- Time series model parameters are externalised into a state variable. Could use ARIMA of LSTM and in such cases, the model params would be ARIMA coefficients or the LSTM weights.\n",
    "    - To keep code understanable, we will use a zero-order regression model, and so our model. parameters will be the average flight delay and the variance of the flight delays over the two-hour window\n",
    "- When a flight arrives, its arrival delay can be classified as anomalous or not using the externalised model state\n",
    "- Every time the window is closed, the out put is extacted. The output here is the externalised model state and consists of the model parameters.\n",
    "    - The params here are the mean delay time and acceptable deviations which is 4 * the standard deviation\n",
    "    - Any new flight coming in compared against the model state and if outside the acceptable deviation is considered anomalous"
   ]
  },
  {
   "cell_type": "markdown",
   "metadata": {},
   "source": [
    "## Trade-Offs and Alternatives\n",
    "\n",
    "### High-throughput data stream\n",
    "- If we revieve 5000 items a second then the in-memory dataframe over 10 mins will contain 3 million rows \n",
    "- The memory requirments can become considerable\n",
    "\n",
    "\n",
    "- Storing all the records in order to compute the model parameters at the end of the window can become problematic\n",
    "- When the data stream is high throughput, it becomes important to be able to update the model parameters with each element\n",
    "- An online learning model maybe best here (see page 279 in book)\n",
    "\n",
    "### Batching Requests\n",
    "- If model deployed in cloud but the client is embedded in the device \n",
    "- Sending inference requests one by one to a cloud might be overwhelming \n",
    "- Collect a number of requests\n",
    "- Then service those requests as a batch \n",
    "- See Design Pattern 19: Two-Phase Prediction\n",
    "- This is suitable for latency tolerant use cases\n",
    "- If we collect inputs for 5 minutes then the client will have to tolerant for up to 5 minutes delays to get back predictions"
   ]
  },
  {
   "cell_type": "markdown",
   "metadata": {},
   "source": [
    "## Design Pattern 25: Workflow Pipeline\n",
    "\n",
    "- The workflow pipeline addresses the problem of creating an end-to-end reproducible pipeline by containerising and orchestrating the steps in our machine learning process"
   ]
  },
  {
   "cell_type": "markdown",
   "metadata": {},
   "source": [
    "### Problem\n",
    "\n",
    "- A data scientist is able to run, data processing, training and model deployment steps in an end-to-end fashion with a single notebook\n",
    "- However, as each step in the ML pipeline becomes more complex and more people within the organisation want to contribute to this code base, running these steps from a single notebook does not scale \n",
    "\n",
    "\n",
    "- In monolithic aapplications the applications logic is handled by a single program.\n",
    "- To test a small feature in a monolithic app we mus run the entire program. Same goes deploying or debugging \n",
    "- Deploying a small bug fix means requires deploying the entire application \n",
    "- When the codebase is inextricably linked, it becomes difficult for individual developers to debug errors and word independently on different parts of the application\n",
    "- Recently monolithic apps have been replaced in favor of a microservices architecture where individual pieces of business logic are built and deployed as isolated packages of code.\n",
    "- With microservices, a large applications is split into smaller, more manageable parts so that developers can build, debug and deploy pieces of an applications independelty\n",
    "\n",
    "\n",
    "- When someone is building an ML model on their own, a \"monolithic\" approach may be faster to iterate on.\n",
    "- It also works because one person is actively involved in devloping and maintaining each piece of the pipeline e.g.\n",
    "    - Data collection\n",
    "    - Data validation\n",
    "    - Data preprocessing\n",
    "    - Model building\n",
    "    - Training and validation\n",
    "    - Model deployment\n",
    "- When scaling this workflow different parts of the organisation may be responsible for different steps\n",
    "- To scale the ML workflow, we need a way for the team building out the model to run trials independently of the data processing step\n",
    "- We also need to keep track of performance for each step of the pipeline and manage the output files generated by each part of the process\n",
    "\n",
    "\n",
    "- When the development of each step is complete, we'll want to schedule operations like retraining, or create event-triggered pipeline runs that are invoked in repsone to changed in your environment\n",
    "    - e.g. new training data added to the bucket\n",
    "- In such cases it'll be necessary for the solution to allow us to run the entire workflow from end-to-end in on call while still being able to track output and trace errors from individual steps\n",
    "\n",
    "### Solution\n",
    "\n",
    "- Make each step in ML workflow a separate, containerised process\n",
    "- Containers ensure we can run the code in different environments\n",
    "- Chain together containerised steps to make a pipeline that can be run with a REST API call\n",
    "- This pipeline workflow allows team members to work on different parts independently\n",
    "- Can use products such as:\n",
    "    - Kubeflow pipelines\n",
    "    - MLflow\n",
    "    - Apache Airflow\n",
    "    \n",
    "### Why it Works\n",
    "\n",
    "- Without running the code as a pipeline, it would be difficult for others to reliably reproduce our work\n",
    "- They would need to take all elements of the process and replicate the environment, dependencies, authentication etc...\n",
    "- Containerising each step ensures that others will be able to reproduce both environment and the workflow\n",
    "- Allows us to potentially reproduce the environment months later to support regulatory needs\n",
    "\n",
    "- With each pipeline component in its own container, different team members can build and test separate pieces of a pipeline in parallel\n",
    "- Minimises risk with more monolithic ML process where steps are inextricably linked to one another\n",
    "\n",
    "### Trade-Offs and Alternatives\n",
    "\n",
    "#### Apache Airflow and Kubeflow Pipelines\n",
    "\n",
    "- Apache Airflow and Kubeflow pipelines can implement the workflow pattern\n",
    "- Both treat the pipeline as a DAG"
   ]
  },
  {
   "cell_type": "markdown",
   "metadata": {},
   "source": []
  },
  {
   "cell_type": "markdown",
   "metadata": {},
   "source": [
    "## Design Pattern 26: Feature Store\n",
    "\n",
    "- Pattern simplifies the managment and reuse of features across projects\n",
    "- Done by decoupling feature creation process from the development of models using those features\n",
    "\n",
    "### Problem\n",
    "\n",
    "- SMEs should be control features to ensure they're calculated in a consistent way\n",
    "- Ad-hoc approach where features are created as need by ML projects may work for one-off model, but as the organisation scales, this method becomes more impractical"
   ]
  },
  {
   "cell_type": "markdown",
   "metadata": {},
   "source": [
    "- Ad-hoc features aren't easily reused. Features are created over and over again.\n",
    "- This can be expensive especially if the feature takes a lot of compute resources\n",
    "- Effort and time are wasted creating the same features from scratch for each new project"
   ]
  },
  {
   "cell_type": "markdown",
   "metadata": {},
   "source": [
    "- Data goverance is made difficult if each ML project computes features from sensitive data differently"
   ]
  },
  {
   "cell_type": "markdown",
   "metadata": {},
   "source": [
    "- Ad-hoc features aren't easily shared between teams or across projects\n",
    "- Same data can be used across teams but may define the features differently \n",
    "- This also hinders cross-collabortation of teams, leading to siloed works and unnecessarily duplicated effort"
   ]
  },
  {
   "cell_type": "markdown",
   "metadata": {},
   "source": [
    "- Ad-hoc feature used for training and serving are inconsistent i.e. training serving skew\n",
    "- If the feature pipeline for training differs at all from the pipeline used in production for serving then we run the risk of training-serving skew"
   ]
  },
  {
   "cell_type": "markdown",
   "metadata": {},
   "source": [
    "- Productionisation of features is difficult\n",
    "- When moving to production, there is no standardised framework to serve features for online ML models and to serve batch features for offline model training \n",
    "- Models trained offline using features created in batch processes, but when served in production, these features are often created with an emphasis on low latency and less on high throughput"
   ]
  },
  {
   "cell_type": "markdown",
   "metadata": {},
   "source": [
    "- Overall, ad-hoc feature development slows model development and leads to duplicated effort and work stream inefficiency\n",
    "- Feature creation is incosistent between training and inference, running the risk of training-serving skew of data leakage by accidentally introducing label information into the model input pipeline"
   ]
  },
  {
   "cell_type": "markdown",
   "metadata": {},
   "source": [
    "### Solution\n",
    "\n",
    "- Create shared feature store\n",
    "- A centralised location to store and document feature datasets that will be used for building machine learning models\n",
    "- Feature store acts as an interface between the data engineer's building the pipelines for feature creation and the data scientist's workflow for building models using those features\n",
    "- This way there is a central respository to house pre-computed features, which speeds up development time and feature discovery\n",
    "- Allows for software engineering practices e.g. versioning, documentation, access control"
   ]
  },
  {
   "cell_type": "markdown",
   "metadata": {},
   "source": [
    "- A typlical store is build with two key design characteristics:\n",
    "    - tooling to process large feature data sets quickly \n",
    "    - a process to store features that supports both low-latency access (for inference) and large batch access (for model training)\n",
    "- Adding a metadata layer simplifies documentation and versioning "
   ]
  },
  {
   "cell_type": "markdown",
   "metadata": {},
   "source": [
    "- Typlically a data engineer would create a pipeline to support a single model \n",
    "- The feature store pattern decouples feature engineering from model development "
   ]
  },
  {
   "cell_type": "markdown",
   "metadata": {},
   "source": [
    "- Ultimately the feature store will house many different feature sets containing features created from a myriad raw data sources\n",
    "- The metadata layer is built in to document feature sets and provide a registry for easy feature discovery and cross collaboration among teams"
   ]
  },
  {
   "cell_type": "markdown",
   "metadata": {},
   "source": [
    "### Why it Works\n",
    "\n",
    "- Feature stores decouple feature engineering from feature usage\n",
    "    - Allows for feature usage and engineering to happen independently\n",
    "- As features are added, they become available immediately for both training and serving and are stored in a single location\n",
    "    - Ensures consistency between model training and serving\n",
    "- Crucial that the pipeline for retrieving features during development is the same as when serving the model\n",
    "    - A feature store ensures that consistency\n",
    "    \n",
    "**Figure 6-16 in book**\n",
    "\n",
    "**Figure 6-18 in book**\n",
    "\n",
    "- There is no database that can handle both scaling and potentially terabytes of data and extremely low latency in the order of milliseconds\n",
    "- Feature store gets around this by having a separate online and offline stores and ensures that features are handled in a consistent fashion on both scenarios"
   ]
  },
  {
   "cell_type": "markdown",
   "metadata": {},
   "source": [
    "- Feature store acts as a version-controlled repository for feature datasets, allowing for CI/CD practices of code and model development to be applied to feature engineering process\n",
    "- New ML projects start with a process of feature selection from a catalogue instead of having to do feature engineering from scratch allowing organisations to achieve an economies-of-scale effect\n",
    "- As a new feature is added to the feature store, it becomes easier and faster to build new models that reuse those features"
   ]
  },
  {
   "cell_type": "markdown",
   "metadata": {},
   "source": [
    "### Trade-Offs and Alternatives\n",
    "\n",
    "- Lots of different varients available. What you select depends on how you intend to use the feature store"
   ]
  },
  {
   "cell_type": "markdown",
   "metadata": {},
   "source": [
    "- The primary components of the feature store are the same:\n",
    "    - A tool to procss large feature engineering jobs quickly, such as Spark, Flink, or Beam\n",
    "    - A storage component for housing the feature sets that are created, such as Hive (via S3 etc...), BigQuery, Redis, BigTable and/or Cassandra\n",
    "    - A metadata layer to record feature version information, documentation and feature registry to simplify discovery and sharing of feature sets\n",
    "    - An API for ingesting and retrieving feature to/from the feature store"
   ]
  },
  {
   "cell_type": "markdown",
   "metadata": {},
   "source": [
    "#### Transform Design Pattern\n",
    "- If feature engineering code is not the same for training and serving there is a risk that the two code sources are not identical. This leads to training-serving skew, and model predictions may not be reliable since the features may not be the same\n",
    "- Feature stores get around this by having their feature engineering jobs write feature data to both an online and an offline database \n",
    "- While the feature store doesn't perform the feature transformations, it provides a way to separate the upstream feature engineering steps from model serving and provide point in time correctness"
   ]
  },
  {
   "cell_type": "markdown",
   "metadata": {},
   "source": [
    "## Design Pattern 27: Model Versioning\n",
    "\n",
    "### Problem\n",
    "\n",
    "- Deploying new models to production will inevitebly affect the way models behave on new data, which presents a challenge\n",
    "- Need an approach for keeping production models up to date while still ensuring backward compatability for existing model users\n",
    "\n",
    "\n",
    "- Training a new model becuase of data drift or changing the architecture to improve accuracy will impact the prediction results users get from the model\n",
    "- Alternatively, out model's end users might start to require more information on how the model is arrive at a specific prediction i.e. the end users needs explainability\n",
    "\n",
    "\n",
    "- When we deploy new models, we'll also likely want a way to track how the model is performing in production and compare this with previous iterations\n",
    "- May want to test the new model with a subset of users\n",
    "- Both performance monitoring and split testing, aling with other possible model changes, will be difficult to solve by replacing a single production model each time we make updates\n",
    "- To handle this, we'll need solution that allows us to continuously update our model without breaking the experience for existing users"
   ]
  },
  {
   "cell_type": "markdown",
   "metadata": {},
   "source": [
    "### Solution\n",
    "\n",
    "- Deploy different model versions to different REST endpoints\n",
    "- This ensures backwards compatability\n",
    "\n",
    "\n",
    "- Each deployed model should be a microservice\n",
    "- This decouples changes to our model from our application front-end\n",
    "- To add a new model, devs just need to add a new endpoint for the model"
   ]
  },
  {
   "cell_type": "markdown",
   "metadata": {},
   "source": [
    "#### Types of Model Users\n",
    "\n",
    "- Two types of end users\n",
    "    - Users that are building applications that rely on our model serving predictions to others\n",
    "        - Likely to run into backwards compatibility issues\n",
    "    - Users the call the model directly\n",
    "        - Less likely to run into backwards compatability issues"
   ]
  },
  {
   "cell_type": "code",
   "execution_count": null,
   "metadata": {},
   "outputs": [],
   "source": []
  }
 ],
 "metadata": {
  "kernelspec": {
   "display_name": "Python 3 (ipykernel)",
   "language": "python",
   "name": "python3"
  },
  "language_info": {
   "codemirror_mode": {
    "name": "ipython",
    "version": 3
   },
   "file_extension": ".py",
   "mimetype": "text/x-python",
   "name": "python",
   "nbconvert_exporter": "python",
   "pygments_lexer": "ipython3",
   "version": "3.8.7"
  }
 },
 "nbformat": 4,
 "nbformat_minor": 4
}
