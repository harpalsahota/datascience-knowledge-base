{
 "cells": [
  {
   "cell_type": "markdown",
   "metadata": {},
   "source": [
    "# Setting the Scene\n",
    "\n",
    "Image we want to change the colour of the banner on our webiste. We can't assume changing the colour will increase in sales we need to test it! We’ll need to run a controlled experiment. If you don't test your idea with a controlled experiment, you’ll never know whether the color change actually helped or hurt your sales.\n",
    "\n",
    "We propose an A/B testing setup, Groups A and B of users would see slightly different versions of the same website. After enough users had been exposed to both designs, comparisons between the two groups would allow us to decide whether the proposed change would help or hurt the site.\n",
    "\n",
    "We don't just have to run an A/B test, we can compare many colours at once with a A/B/C/D/E/F/G test!\n",
    "\n",
    "What about the cost of running the experiment? Some experiments may hurts sales and running the experiment costs money not only in hardware but people capacity. We ideally would like to run experiments that will be profitable. So we:\n",
    "1. learn new things\n",
    "2. profit from old things that we've already learned\n",
    "\n",
    "We have to balance the idea of experimentation and cost this is called the explore-exploit trade-off!\n",
    "\n",
    "We need to balance experimentation with profit-maximisation. We call experimentation exploration and we call profit-maximisation exploitation. They’re the fundamental values that any profit-seeking system, whether it’s a person, a company or a robot, has to find a way to balance. If you do too much exploration, you lose money. And if you do too much exploitation, you stagnate and miss out on new opportunities.\n",
    "\n",
    "To balance this there is no universal solution. We end up balancing two goals: to learn which ideas are good or bad, you have to explore — at the risk of losing money and bringing in fewer profits. The right way to choose between exploring new ideas and exploiting the best of your old ideas depends on the details of your situation. An A/B test is the best solution to test if the colour change will make a difference, but is not always the best option.\n",
    "\n",
    "For example, a trial period of A/B testing followed by sticking strictly to the best design afterwards only makes sense if there is a definite best design that consistently works across the Christmas season and the rest of the year. But imagine that the best color scheme is black/orange near Halloween and red/green near Christmas. If you run an A/ B experiment during only one of those two periods of time, you’ll come to think there’s a huge difference — and then your profits will suddenly come crashing down during the other time of year.\n",
    "\n",
    "And there are other potential problems as well with naive A/B testing: if you run an experiment that streches across both times of year, you’ll see no average effect for your two color schemes — even though there’s a huge effect in each of the seasons if you had examined them separately. You need context to design meaningful experiments. And you need to experiment intelligently."
   ]
  },
  {
   "cell_type": "markdown",
   "metadata": {},
   "source": [
    "## The Explore-Exploit Dilemma\n",
    "\n",
    "Hopefully it was made clear that you have two completely different goals you need to address when you try to optimise a website: you need to (A) learn about new ideas (exploring), while you also need to (B) take advantage of the best of your old ideas (exploiting)\n",
    "\n",
    "Before we start working with algorithms for solving the Exploration-Exploitation trade-off, we’re going to focus on the differences between the bandit algorithms and the tradition A/B testing methods that most web developers would use to explore new ideas."
   ]
  },
  {
   "cell_type": "code",
   "execution_count": null,
   "metadata": {},
   "outputs": [],
   "source": []
  }
 ],
 "metadata": {
  "kernelspec": {
   "display_name": "Python 3",
   "language": "python",
   "name": "python3"
  },
  "language_info": {
   "codemirror_mode": {
    "name": "ipython",
    "version": 3
   },
   "file_extension": ".py",
   "mimetype": "text/x-python",
   "name": "python",
   "nbconvert_exporter": "python",
   "pygments_lexer": "ipython3",
   "version": "3.8.6"
  }
 },
 "nbformat": 4,
 "nbformat_minor": 5
}
