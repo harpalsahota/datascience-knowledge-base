{
 "cells": [
  {
   "cell_type": "markdown",
   "metadata": {},
   "source": [
    "# Why Use Multiarmed Bandit Algorithms\n",
    "\n",
    "## What is the Objective?\n",
    "\n",
    "When we talk about \"optimising a website\", we’re referring to a step-by-step process in which a web developer makes a series of changes to a website, each of which is meant to increase the success of that site. For many web developers, the most famous type of website optimisation is called Search Engine Optimization (or SEO for short), a process that involves modifying a website to increase that site’s rank in search engine results. We won’t discuss SEO at all in this book, but the algorithms that we will describe can be easily applied as part of an SEO campaign in order to decide which SEO techniques work best.\n",
    "\n",
    "The word \"success\" is going to be used going forward to describe:\n",
    "\n",
    "- **Traffic**: Did a change increase the amount of traffic to a site’s landing page?\n",
    "- **Conversions**: Did a change increase the number of one-time vistors who were successfully converted into repeat customers?\n",
    "- **Sales**: Did a change increase the number of purchases being made on a site by either new or existing customers?\n",
    "- **CTRs**: Did a change increase the number of times that visitors clicked on an ad?\n",
    "\n",
    "In addition to an unambiguous, quantitative measurement of success, we’re going to also need to have a list of potential changes you believe might increase the success of your site(s). From now on, we’re going to start calling our measure of success a reward and our list of potential changes arms. The historical reasons for those terms will be described shortly. We don’t personally think they’re very well-chosen terms, but they’re absolutely standard in the academic literature on this topic and will help us make our discussion of algorithms precise.\n",
    "\n",
    "For now, we want to focus on a different issue: why should we even bother using bandit algorithms to test out new ideas when optimising websites? Isn’t A/B testing already sufficient?"
   ]
  },
  {
   "cell_type": "markdown",
   "metadata": {},
   "source": [
    "## The Business Scientist: Web-Scale A/B Testing\n",
    "\n",
    "This style of controlled experimentation is called A/B testing because it typically involves randomly assigning an incoming web user to one of two groups: Group A or Group B. This random assignment of users to groups continues on for a while until the web developer becomes convinced that either Option A is more successful than Option B or, vice versa, that Option B is more successful than Option A. After that, the web developer assigns all future users to the more successful version of the website and closes out the inferior version of the website.\n",
    "\n",
    "This experimental approach to trying out new ideas has been extremely successful in the past and will continue to be successful in many contexts. So why should we believe that the bandit algorithms described in the rest of this book have anything to offer us?\n",
    "\n",
    "Answering this question properly requires that we return to the concepts of exploration and exploitation. Standard A/B testing consists of:\n",
    "\n",
    "- A short period of pure exploration, in which you assign equal numbers of users to Groups A and B.\n",
    "- A long period of pure exploitation, in which you send all of your users to the more successful version of your site and never come back to the option that seemed to be inferior.\n",
    "\n",
    "Why might this be a bad strategy?\n",
    "\n",
    "- It jumps discretely from exploration into exploitation, when you might be able to smoothly transition between the two.\n",
    "- During the purely exploratory phase, it wastes resources exploring inferior options in order to gather as much data as possible. But you shouldn’t want to gather data about strikingly inferior options.\n",
    "\n",
    "Bandit algorithms provide solutions to both of these problems: (1) they smoothly de‐ crease the amount of exploring they do over time instead of requiring you to make a sudden jump and (2) they focus your resources during exploration on the better options instead of wasting time on the inferior options that are over-explored during typical A/ B testing. In fact, bandit algorithms address both of those concerns is the same way because they gradually fixate on the best available options over time. In the academic literature, this process of settling down on the best available option is called convergence. All good bandit algorithms will eventually converge.\n",
    "\n",
    "In practice, how important those two types of improvements will be to your business depends a lot on the details of how your business works. But the general framework for thinking about exploration and exploitation provided by bandit algorithms will be useful to you no matter what you end up doing because bandit algorithms subsume A/B testing as a special case. Standard A/B testing describes one extreme case in which you jump from pure exploration to pure exploitation. Bandit algorithms let you operate in the much larger and more interesting space between those two extreme states."
   ]
  },
  {
   "cell_type": "code",
   "execution_count": null,
   "metadata": {},
   "outputs": [],
   "source": []
  }
 ],
 "metadata": {
  "kernelspec": {
   "display_name": "Python 3",
   "language": "python",
   "name": "python3"
  },
  "language_info": {
   "codemirror_mode": {
    "name": "ipython",
    "version": 3
   },
   "file_extension": ".py",
   "mimetype": "text/x-python",
   "name": "python",
   "nbconvert_exporter": "python",
   "pygments_lexer": "ipython3",
   "version": "3.8.6"
  }
 },
 "nbformat": 4,
 "nbformat_minor": 4
}
