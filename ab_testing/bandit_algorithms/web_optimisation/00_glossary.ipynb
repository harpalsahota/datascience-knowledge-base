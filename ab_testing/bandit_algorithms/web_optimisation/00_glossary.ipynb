{
 "cells": [
  {
   "cell_type": "markdown",
   "id": "7e21dd79-5c13-4e79-9152-ad1332adb009",
   "metadata": {},
   "source": [
    "# Glossary\n",
    "\n",
    "#### Reward\n",
    "A quantitative measure of success. In business, the ultimate rewards are profits, but we can often treat simpler metrics like click-through rates for ads or sign-up rates for new users as rewards. What matters is that (A) there is a clear quantitative scale and (B) it’s better to have more reward than less reward.\n",
    "\n",
    "#### Arm\n",
    "What options are available to us? What actions can we take? In this book, we’ll refer to the options available to us as arms. The reasons for this naming convention will be easier to understand after we’ve discuss a little bit of the history of the Multiarmed Bandit Problem.\n",
    "\n",
    "#### Bandit\n",
    "A bandit is a collection of arms. When you have many options available to you, we call that collection of options a Multiarmed Bandit. A Multiarmed Bandit is a mathematical model you can use to reason about how to make decisions when you have many actions you can take and imperfect information about the rewards you would receive after taking those actions. The algorithms presented in this book are ways of trying to solve the problem of deciding which arms to pull when. We refer to the problem of choosing arms to pull as the Multiarmed Bandit Problem.\n",
    "\n",
    "#### Play/Trial\n",
    "When you deal with a bandit, it’s assumed that you get to pull on each arm multiple times. Each chance you have to pull on an arm will be called a play or, more often, a trial. The term “play” helps to invoke the notion of gambling that inspires the term “arm”, but the term trial is quite commonly used.\n",
    "\n",
    "#### Horizon\n",
    "How many trials will you have before the game is finished? The number of trials left is called the horizon. If the horizon is short, you will often use a different strategy than you would use if the horizon were long, because having many chances to play each arm means that you can take greater risks while still having time to recover if anything goes wrong.\n",
    "\n",
    "#### Exploitation\n",
    "An algorithm for solving the Multiarmed Bandit Problem exploits if it plays the arm with the highest estimated value based on previous plays.\n",
    "\n",
    "#### Exploration\n",
    "An algorithm for solving the Multiarmed Bandit Problem explores if it plays any arm that does not have the highest estimated value based on previous plays. In other words, exploration occurs whenever exploitation does not.\n",
    "\n",
    "#### Explore/Exploit Dilemma\n",
    "The observation that any learning system must strike a compromise between its impulse to explore and its impulse to exploit. The dilemma has no exact solution, but the algorithms described in this book provide useful strategies for resolving the conflicting goals of exploration and exploitation.\n",
    "\n",
    "#### Annealing\n",
    "An algorithm for solving the Multiarmed Bandit Problem anneals if it explores less over time.\n",
    "\n",
    "#### Temperature\n",
    "A parameter that can be adjusted to increase the amount of exploration in the Softmax algorithm for solving the Multiarmed Bandit Problem. If you decrease the temperature parameter over time, this causes the algorithm to anneal.\n",
    "\n",
    "#### Streaming Algorithms\n",
    "An algorithm is a streaming algorithm if it can process data one piece at a time. This is the opposite of batch processing algorithms that need access to all of the data in order to do anything with it.\n",
    "\n",
    "#### Online Learning\n",
    "An algorithm is an online learning algorithm if it can not only process data one piece at a time, but can also provide provisional results of its analysis after each piece of data is seen.\n",
    "\n",
    "#### Active Learning\n",
    "An algorithm is an active learning algorithm if it can decide which pieces of data it wants to see next in order to learn most effectively. Most traditional machine learning algorithm are not active: they passively accept the data we feed them and do not tell us what data we should collect next.\n",
    "\n",
    "#### Bernoulli\n",
    "A Bernoulli system outputs a 1 with probability p and a 0 with probability 1 – p."
   ]
  },
  {
   "cell_type": "code",
   "execution_count": null,
   "id": "ac7ec091-ea64-45c3-a42c-0989deb0beb4",
   "metadata": {},
   "outputs": [],
   "source": []
  }
 ],
 "metadata": {
  "kernelspec": {
   "display_name": "Python 3 (ipykernel)",
   "language": "python",
   "name": "python3"
  },
  "language_info": {
   "codemirror_mode": {
    "name": "ipython",
    "version": 3
   },
   "file_extension": ".py",
   "mimetype": "text/x-python",
   "name": "python",
   "nbconvert_exporter": "python",
   "pygments_lexer": "ipython3",
   "version": "3.8.7"
  }
 },
 "nbformat": 4,
 "nbformat_minor": 5
}
