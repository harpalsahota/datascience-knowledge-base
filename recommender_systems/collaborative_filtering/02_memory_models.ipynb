{
 "cells": [
  {
   "cell_type": "markdown",
   "metadata": {},
   "source": [
    "# Memory Based\n",
    "\n",
    "Memory based methods apply statistical techniques to the entire dataset to calculate predictions.\n",
    "\n",
    "To find the rating **R** that a user **U** would give to item **I**, the approach includes:\n",
    "- Find users similar to **U** who have rated **I**\n",
    "- Calculate **R** based on the ratings by similar users\n",
    "\n",
    "ADD THE PLOT HERE OF THE EXAMPLE\n",
    "\n",
    "The concept of similarity can be described by looking at the distance (e.g. euclidean) between some points. Smaller distances should suggest more closely realted data points.\n",
    "\n",
    "EXPLAIN WHY EUCLIDEAN DISTANCE IS BAD\n",
    "\n",
    "Additional information from the data can be derived by looking the angle between data points such as the cosine similarity.\n",
    "\n",
    "PLOT OF VECTORS HERE\n",
    "\n",
    "If the angle between two data points is zero they are said to be coincident.The smaller the angle the more similar the data points are.\n",
    "\n",
    "SHOW EXAMPLE OF DISTANCE CALCULATION WITH SCIPY\n",
    "\n",
    "Users who are coincident may actually have different ratings e.g. if a users rates two films 1 and 1 and another user rates the same two films 5 and 5, they will be coincident. This is a common occurrence in the real world. The account for this, all the users are brought to the same level by removing their individual biases. The is achieved by subtracting the the average rating given by that user to all items they have rated."
   ]
  },
  {
   "cell_type": "code",
   "execution_count": 4,
   "metadata": {},
   "outputs": [],
   "source": [
    "from scipy import spatial"
   ]
  },
  {
   "cell_type": "code",
   "execution_count": 5,
   "metadata": {},
   "outputs": [
    {
     "data": {
      "text/plain": [
       "0.0"
      ]
     },
     "execution_count": 5,
     "metadata": {},
     "output_type": "execute_result"
    }
   ],
   "source": [
    "spatial.distance.cosine([1,1],[5,5])"
   ]
  },
  {
   "cell_type": "markdown",
   "metadata": {},
   "source": [
    "SHOW EXAMPLE HERE OF WHAT THE NORMALISATION IS\n",
    "\n",
    "By doing this the mean value for all users is now zero. This cosine angle for the adjusted values where the user biases are removed is known as the **centred cosine**. This is usually used where there is a lot of missing values in the data and a common value (zero) is needed to fill in the missing values. Filling missing values with randomly generated values will lead to inaccuracies. Filling missing values with the average for each user is a viable solution but could make coincident users more dissimilar. However, using the adjusted values the centered average of coincident users is 0, which allows you to capute the idea of the item being above or below average more accuractely for both users with all missing values in both user's vectors having the same value 0.\n",
    "\n",
    "NOTE: The formular for centred cosine is the same as that for the Pearson correlation coefficient. So some libraries may refer to the centred cosine as the Pearson correlation.\n",
    "\n",
    "## Calculating Ratings\n",
    "\n",
    "AVERAGE OF SIMILAR USERS\n",
    "\n",
    "WEIGHTED AVERAGE"
   ]
  },
  {
   "cell_type": "code",
   "execution_count": 8,
   "metadata": {},
   "outputs": [
    {
     "data": {
      "text/plain": [
       "0.7071067811865475"
      ]
     },
     "execution_count": 8,
     "metadata": {},
     "output_type": "execute_result"
    }
   ],
   "source": [
    "1 - spatial.distance.cosine([0,1,0,0],[0,1,0,1])"
   ]
  },
  {
   "cell_type": "code",
   "execution_count": null,
   "metadata": {},
   "outputs": [],
   "source": []
  }
 ],
 "metadata": {
  "kernelspec": {
   "display_name": "Python 3",
   "language": "python",
   "name": "python3"
  },
  "language_info": {
   "codemirror_mode": {
    "name": "ipython",
    "version": 3
   },
   "file_extension": ".py",
   "mimetype": "text/x-python",
   "name": "python",
   "nbconvert_exporter": "python",
   "pygments_lexer": "ipython3",
   "version": "3.7.6"
  }
 },
 "nbformat": 4,
 "nbformat_minor": 4
}
