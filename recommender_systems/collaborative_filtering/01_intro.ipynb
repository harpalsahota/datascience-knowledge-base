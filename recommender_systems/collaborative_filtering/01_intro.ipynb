{
 "cells": [
  {
   "cell_type": "markdown",
   "metadata": {},
   "source": [
    "# Collaborative Filtering\n",
    "\n",
    "The work in this notebook was inspiring by this [article](https://realpython.com/build-recommendation-engine-collaborative-filtering/)\n",
    "\n",
    "This is probabily the most common technique used for building recommender engines. This technique performs better as more data on users is gathered.\n",
    "\n",
    "## What is Collaborative Filtering?\n",
    "\n",
    "The aim of this technique is to identify items that a given user may like based on other items similiar users have liked. A large group of users is usually searched to find similar users to the one in question. \n",
    "\n",
    "## The Dataset\n",
    "\n",
    "The dataset usually consists of a sparse matrix where the rows are users and the columns are items and the cells are values of interaction e.g. purchase (yes / no), rating (1 - 5). These are **explicit** ratings where the user has directly interacted with the item. There are also **implicit** ratings such as viewing an item, adding it to a wish list etc..\n",
    "\n",
    "A typical matix would look like this:\n",
    "\n",
    "||$i_1$|$i_2$|$i_3$|$i_4$|$i_5$|\n",
    "|-----|-----|-----|-----|-----|-----|\n",
    "|$u_1$|2|5||1|\n",
    "|$u_2$||5|1|1|\n",
    "|$u_3$|5|||3|1|\n",
    "|$u_4$|4||3|4|\n",
    "|$u_5$|2|5||5|\n",
    "\n",
    "In this dataset are 5 users who have rated up to 5 items. Most cells in the table are empty and this is typical for this kind of data.\n",
    "\n",
    "## Steps Involved in Collaborative Filtering\n",
    "\n",
    "1. Find similar users or items\n",
    "2. Predict the rating / value of the items that a user has not yet rated\n",
    "\n",
    "How do you accomplish the above? To do that the following questions need to answered:\n",
    "- How do you determine which users are similar to others\n",
    "- Given that you know what the similar users are how to you determine the rating a user would give for an item?\n",
    "- How is the accuracy of the prediction measured?\n",
    "\n",
    "Collaborative filtering is a family of methods with numerous way of finding similar users or items and also multiple ways of calculating ratings. This means the first two questions above don't have a single answer. How do you know which will works best? The best thing to do is to try a few and select the one which works best.\n",
    "\n",
    "The data used in collaborative filtering and the subsequent calculations don't take demographic data into account such as age or gender. It is only calculated on the implicit or explicit information provided by the user.\n",
    "\n",
    "Like the other two questions, the calculation of accuracy also has numerous answers. Two common methods used are root mean square error (RMSE) where you make predictions for ratings where you know the answer and compare the predicted to the known to determine the error. Square all the error values, calculate the mean and then take the square root to get the RMSE. Another common one used is mean absolute error (MAE), where the mean of the magnitude or the errors is taken.\n",
    "\n",
    "## Item-Based Collaborative Filtering\n",
    "\n",
    "Collaborative filtering works by calculating the preferences of items for users. A new users joins your dataset and is matched to discover neighbours, which are other users who have historically had similar taste to the new user. Items that these users liked are then recommended to the new user. This user-based collaborative filtering approach has shown to be effective in both a research and practical sense. There are challenges that face this sort of recommender system:\n",
    "- Scalability: The algorithms needs to search tens of thousands of potential neighbours in real-time, but modern demands are in the millions of potential neighbours.\n",
    "- Quality: Improving the quality of recommendations for the users. Users need recommendations they can trust otherwise they will refuse to user a recommender that is consistently inaccurate for them.\n",
    "\n",
    "A bottleneck for collaborative filtering algorithms is the search for neighbours among a large user population of potential neighbours. Item-based algorithms avoid this bottleneck by exploring the relationship between items first, rather than relationships between users. Recommendations for users are computed by finding similar items that are similar to other items the user has liked.\n"
   ]
  }
 ],
 "metadata": {
  "kernelspec": {
   "display_name": "Python 3",
   "language": "python",
   "name": "python3"
  },
  "language_info": {
   "codemirror_mode": {
    "name": "ipython",
    "version": 3
   },
   "file_extension": ".py",
   "mimetype": "text/x-python",
   "name": "python",
   "nbconvert_exporter": "python",
   "pygments_lexer": "ipython3",
   "version": "3.7.6"
  }
 },
 "nbformat": 4,
 "nbformat_minor": 4
}
