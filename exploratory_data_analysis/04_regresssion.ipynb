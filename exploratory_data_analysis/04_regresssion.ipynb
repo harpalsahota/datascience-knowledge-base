{
 "cells": [
  {
   "cell_type": "code",
   "execution_count": 21,
   "metadata": {},
   "outputs": [],
   "source": [
    "import matplotlib.pyplot as plt\n",
    "from matplotlib.collections import LineCollection\n",
    "import numpy as np\n",
    "import pandas as pd\n",
    "import seaborn as sns\n",
    "from sklearn.datasets import (\n",
    "    load_boston,\n",
    "    make_regression,\n",
    ")\n",
    "from sklearn.linear_model import LinearRegression\n",
    "from sklearn.metrics import mean_squared_error\n",
    "from sklearn.preprocessing import PolynomialFeatures"
   ]
  },
  {
   "cell_type": "markdown",
   "metadata": {},
   "source": [
    "# Regression\n",
    "\n",
    "## Simple Linear Regression\n",
    "\n",
    "Simple linear regression models the relationship between the magnitude of one\n",
    "variable and that of a second—for example, as X increases, Y also increases. Or\n",
    "as X increases, Y decreases. Correlation is another way to measure how two\n",
    "variables are related. The difference is that while\n",
    "correlation measures the strength of an association between two variables,\n",
    "regression quantifies the nature of the relationship.\n",
    "\n",
    "### Key Terms\n",
    "\n",
    "- **Response**: The variable we are trying to predict.\n",
    "    - _Synonyms_: dependent variable, Y-variable, target, outcome\n",
    "- **Independent variable**: The variable used to predict the response.\n",
    "    - _Synonyms_: independent variable, X-variable, feature, attribute\n",
    "- **Record**: The vector of predictor and outcome values for a specific individual or case.\n",
    "    - _Synonyms_: row, case, instance, example\n",
    "- **Intercept**: The intercept of the regression line—that is, the predicted value when $X = 0$.\n",
    "    - _Synonyms_: $b_0, \\beta_0$\n",
    "- **Regression Coefficient**: The slop of the regression line.\n",
    "    - _Synonyms_: Slope, $b_1, \\beta_1$, parameter estimates, weights\n",
    "- **Fitted values**: The estimates obtained from the regression line.\n",
    "    - _Synonyms_: predicted values\n",
    "- **Residuals** The difference between the observed values and the fitted values.\n",
    "    - _Synonyms_: errors\n",
    "- **Least squares**: The method of fitting a regression by minimizing the sum of squared residuals.\n",
    "    - _Synonyms_: ordinary least squares\n",
    "    \n",
    "### Regression Equation\n",
    "\n",
    "Simple linear regression estimates exactly how much Y will change when X\n",
    "changes by a certain amount. With the correlation coefficient, the variables X\n",
    "and Y are interchangable. With regression, we are trying to predict the Y variable\n",
    "from X using a linear relationship (i.e., a line):\n",
    "\n",
    "\\begin{equation}\n",
    "Y = b_0 + b_1X\n",
    "\\end{equation}\n",
    "\n",
    "We read this as \"Y equals $b_1$ times X, plus a constant $b_0$ .” The symbol $b_0$ is\n",
    "known as the intercept (or constant), and the symbol $b_1$ as the slope for X. Both\n",
    "can be called coefficients, though in general use the term coefficient is\n",
    "often reserved for $b_1$. The Y variable is known as the response or dependent\n",
    "variable since it depends on X. The X variable is known as the predictor or\n",
    "independent variable. The machine learning community tends to use other terms,\n",
    "calling Y the target and X a feature vector.\n",
    "\n",
    "Let's look at a synthetic example below. A dataset has been created with 100\n",
    "data points, 1 feature, 1 feature being informative and one target variable."
   ]
  },
  {
   "cell_type": "code",
   "execution_count": 2,
   "metadata": {},
   "outputs": [],
   "source": [
    "x, y = make_regression(\n",
    "    n_samples=100,\n",
    "    n_features=1,\n",
    "    n_informative=1,\n",
    "    n_targets=1,\n",
    "    noise=10,\n",
    "    random_state=42\n",
    ")"
   ]
  },
  {
   "cell_type": "code",
   "execution_count": 3,
   "metadata": {},
   "outputs": [
    {
     "data": {
      "text/plain": [
       "<matplotlib.collections.PathCollection at 0x1f8d6490648>"
      ]
     },
     "execution_count": 3,
     "metadata": {},
     "output_type": "execute_result"
    },
    {
     "data": {
      "image/png": "[encoded data removed]",
      "text/plain": [
       "<Figure size 432x288 with 1 Axes>"
      ]
     },
     "metadata": {
      "needs_background": "light"
     },
     "output_type": "display_data"
    }
   ],
   "source": [
    "plt.scatter(x, y)"
   ]
  },
  {
   "cell_type": "markdown",
   "metadata": {},
   "source": [
    "As you can see from the plot the X is clearly correlated with Y.\n",
    "But how is Y related to X?\n",
    "\n",
    "Simple linear regression tries to find the \"best\" line to predict the response Y\n",
    "as a function of the predictor variable X.\n",
    "\n",
    "\\begin{equation}\n",
    "Y = b_0 + b_1X\n",
    "\\end{equation}\n",
    "\n",
    "We can quatify the relation ship by fitting a linear model to the data:"
   ]
  },
  {
   "cell_type": "code",
   "execution_count": 4,
   "metadata": {},
   "outputs": [
    {
     "data": {
      "text/plain": [
       "(array([44.43716999]), 1.1651153205269726)"
      ]
     },
     "execution_count": 4,
     "metadata": {},
     "output_type": "execute_result"
    }
   ],
   "source": [
    "lr = LinearRegression().fit(x, y)\n",
    "lr.coef_, lr.intercept_"
   ]
  },
  {
   "cell_type": "markdown",
   "metadata": {},
   "source": [
    "The intercept or $b_0$ is 0.144 and can be interpreted as the predicted Y for when X is zero.\n",
    "The regression coefficient or $b_1$ can be interpreted as follows: for each additional unit of X\n",
    "the value of Y increases by 54.60"
   ]
  },
  {
   "cell_type": "code",
   "execution_count": 5,
   "metadata": {},
   "outputs": [
    {
     "data": {
      "text/plain": [
       "-87.71499999999999"
      ]
     },
     "execution_count": 5,
     "metadata": {},
     "output_type": "execute_result"
    }
   ],
   "source": [
    "# e.g. X = -2\n",
    "1.165 + 44.44 * -2"
   ]
  },
  {
   "cell_type": "code",
   "execution_count": 6,
   "metadata": {},
   "outputs": [
    {
     "data": {
      "text/plain": [
       "1.165"
      ]
     },
     "execution_count": 6,
     "metadata": {},
     "output_type": "execute_result"
    }
   ],
   "source": [
    "# e.g. X = 0\n",
    "1.165 + 44.44 * 0"
   ]
  },
  {
   "cell_type": "markdown",
   "metadata": {},
   "source": [
    "The regression line from this model is displayed below:"
   ]
  },
  {
   "cell_type": "code",
   "execution_count": 7,
   "metadata": {},
   "outputs": [
    {
     "data": {
      "text/plain": [
       "[<matplotlib.lines.Line2D at 0x1f8d9583808>]"
      ]
     },
     "execution_count": 7,
     "metadata": {},
     "output_type": "execute_result"
    },
    {
     "data": {
      "image/png": "[encoded data removed]",
      "text/plain": [
       "<Figure size 432x288 with 1 Axes>"
      ]
     },
     "metadata": {
      "needs_background": "light"
     },
     "output_type": "display_data"
    }
   ],
   "source": [
    "plt.plot(x, lr.predict(x), color='blue', linewidth=3)"
   ]
  },
  {
   "cell_type": "markdown",
   "metadata": {},
   "source": [
    "The slope or $b_1$ can be calculated as: $b_1 = \\Delta Y / \\Delta X $ \n",
    "\n",
    "### Fitted Values and Residuals\n",
    "\n",
    "Generally, data doesn't fit on a straight line so the regression line should include\n",
    "an error term $e_i$:\n",
    "\n",
    "\\begin{equation}\n",
    "Y_i = b_0 + b_1X_i + e_i\n",
    "\\end{equation}\n",
    "\n",
    "Fitted values are referred to as predicted values and are typically denoted by $\\hat{Y}_i$ (Y-hat). \n",
    "The fitted values are given by:\n",
    "\\begin{equation}\n",
    "\\hat{Y}_i = \\hat{b}_0 + \\hat{b_1}X_i\n",
    "\\end{equation}\n",
    "\n",
    "The $\\hat{}$ notation of the co-efficients indicates these are estimated and not known.\n",
    "\n",
    "The residuals $\\hat{e}_i$ is computed by subtracting the predicted values from the original data:\n",
    "\n",
    "\\begin{equation}\n",
    "\\hat{e}_i = Y_i - \\hat{Y}_i\n",
    "\\end{equation}\n",
    "\n",
    "The residuals are the length of the vertical dashed lines from the data line:"
   ]
  },
  {
   "cell_type": "code",
   "execution_count": 58,
   "metadata": {},
   "outputs": [
    {
     "data": {
      "text/plain": [
       "<matplotlib.collections.LineCollection at 0x1f8de415088>"
      ]
     },
     "execution_count": 58,
     "metadata": {},
     "output_type": "execute_result"
    },
    {
     "data": {
      "image/png": "[encoded data removed]",
      "text/plain": [
       "<Figure size 864x432 with 1 Axes>"
      ]
     },
     "metadata": {
      "needs_background": "light"
     },
     "output_type": "display_data"
    }
   ],
   "source": [
    "residuals = y - lr.predict(x)\n",
    "\n",
    "segments = [[[x[i], y[i]], [x[i], y[i] - residuals[i]]] for i in range(y.shape[0])]\n",
    "lc = LineCollection(segments, zorder=0, linewidths=5.0, linestyle='--', colors='red')\n",
    "lc.set_array(np.ones(len(y)))\n",
    "lc.set_linewidths(np.full(y.shape[0], 0.5))\n",
    "\n",
    "fig, (ax0) = plt.subplots(ncols=1, figsize=(12, 6))\n",
    "\n",
    "ax0.plot(x, y, 'C0.', markersize=12)\n",
    "ax0.plot(x, lr.predict(x), 'C2-')\n",
    "ax0.add_collection(lc)"
   ]
  },
  {
   "cell_type": "markdown",
   "metadata": {},
   "source": [
    "### Least Squares\n",
    "\n",
    "How is the model fit to the data? When there is a clear relationship, you could\n",
    "imagine fitting the line by hand. In practice, the regression line is the estimate\n",
    "that minimizes the sum of squared residual values, also called the _residual sum\n",
    "of squares_ or RSS:"
   ]
  },
  {
   "cell_type": "markdown",
   "metadata": {},
   "source": [
    "\\begin{equation}\n",
    "RSS = \\sum^n_{i=1}(Y_{i}-\\hat{Y}_i)^2 \\\\\n",
    "= \\sum^n_{i=1}(Y_i-\\hat{b}_0-\\hat{b}_1X_i)^2\n",
    "\\end{equation}\n",
    "\n",
    "The estimates $\\hat{b}_0$ and $\\hat{b}_1$ are the values that minimize RSS.\n",
    "\n",
    "The method of minimizing the sum of the squared residuals is termed least\n",
    "squares regression, or ordinary least squares (OLS) regression. Least\n",
    "squares regression leads to a simple formula to compute the coefficients:\n",
    "\n",
    "\\begin{equation}\n",
    "\\hat{b}_1 = \\frac{\\sum^n_{i=1}(Y_{i}-\\overline{Y}_i)(X_i-\\overline{X})}{\\sum^n_{i=1}(X_i-\\overline{X})^2} \\\\\n",
    "\\hat{b}_0 = \\overline{Y} - \\hat{b}_1\\overline{X}\n",
    "\\end{equation}\n",
    "\n",
    "Least squares, like the mean, are sensitive to outliers, although this tends to be a signicant\n",
    "problem only in small or moderate-sized problems\n",
    "\n",
    "### Prediction versus Explanation (Profiling)\n",
    "\n",
    "With the advent of big data, regression is widely used to form a model to predict\n",
    "individual outcomes for new data, rather than explain data in hand (i.e., a\n",
    "predictive model). In this instance, the main items of interest are the fitted values\n",
    "$\\hat{Y}$. In marketing, regression can be used to predict the change in revenue in\n",
    "response to the size of an ad campaign.\n",
    "\n",
    "A regression model that fits the data well is set up such that changes in X lead to\n",
    "changes in Y. However, by itself, the regression equation does not prove the\n",
    "direction of causation. Conclusions about causation must come from a broader\n",
    "context of understanding about the relationship. For example, a regression\n",
    "equation might show a definite relationship between number of clicks on a web\n",
    "ad and number of conversions. It is our knowledge of the marketing process, not\n",
    "the regression equation, that leads us to the conclusion that clicks on the ad lead\n",
    "to sales, and not vice versa.\n",
    "\n",
    "### Key Takeaways\n",
    "- The regression equation models the relationship between a response variable Y and a predictor variable X as a line.\n",
    "- A regression model yields fitted values and residuals—predictions of the response and the errors of the predictions.\n",
    "- Regression models are typically fit by the method of least squares.\n",
    "- Regression is used both for prediction and explanation.\n",
    "\n",
    "## Multiple Linear Regression\n",
    "\n",
    "When there are multiple predictors, the equation is simply extended to\n",
    "accommodate them:\n",
    "\n",
    "\\begin{equation}\n",
    "Y = b_0 + b_1X_1 + b_2X_2 + ... + b_pX_p + e\n",
    "\\end{equation}\n",
    "\n",
    "- **Root mean squared error**: The square root of the average squared error of the regression (this is the most widely used metric to compare regression models).\n",
    "    - _Synonyms_: RMSE\n",
    "- **Residual standard error**:\n",
    "The same as the root mean squared error, but adjusted for degrees of\n",
    "freedom.\n",
    "Synonyms\n",
    "RSE\n",
    "- **R-squared**: The proportion of variance explained by the model, from 0 to 1.\n",
    "    - _Synonyms_:coefficient of determination, $R^2$\n",
    "- **t-statistic**: The coefficient for a predictor, divided by the standard error of the coefficient, giving a metric to compare the importance of variables in the model.\n",
    "- **Weighted regression**: Regression with the records having different weights.\n",
    "\n",
    "All of the other concepts in simple linear regression, such as fitting by least\n",
    "squares and the definition of fitted values and residuals, extend to the multiple\n",
    "linear regression setting. For example, the fitted values are given by:\n",
    "\\begin{equation}\n",
    "\\hat{Y} = \\hat{b_0} + \\hat{b_1}X_{1,i} + \\hat{b_2}X_{2,i} + ... + \\hat{b_p}X_{p,i} + e\n",
    "\\end{equation}\n",
    "\n",
    "The interpretation of the coefficients is as with simple linear regression: the\n",
    "predicted value $\\hat{Y}$ changes by the coefficient $b_j$ for each unit change in $X_j$\n",
    "assuming all the other variables, for $k \\neq j$, remain the same.\n",
    "\n",
    "### Addessing the Model\n",
    "\n",
    "The most important performance metric from a data science perspective is root\n",
    "mean squared error, or RMSE. RMSE is the square root of the average squared\n",
    "error in the predicted $\\hat{y}_i$ values:\n",
    "\\begin{equation}\n",
    "RMSE = \\sqrt{\\frac{\\sum^n_{i=1}{(y_i-\\hat{y_i})^2}}{n}}\n",
    "\\end{equation}\n",
    "This measures the overall accuracy of the model, and is a basis for comparing it\n",
    "to other models (including models fit using machine learning techniques).\n",
    "Similar to RMSE is the residual standard error, or RSE. In this case we have $p$\n",
    "predictors, and the RSE is given by:\n",
    "\\begin{equation}\n",
    "RSE = \\sqrt{\\frac{\\sum^n_{i=1}{(y_i-\\hat{y_i})^2}}{n-p-1}}\n",
    "\\end{equation}\n",
    "The only difference is that the denominator is the degrees of freedom, as\n",
    "opposed to number of records. In practice, for linear\n",
    "regression, the difference between RMSE and RSE is very small, particularly for\n",
    "big data applications.\n",
    "Another useful metric that you will see in software output is the coefficient of\n",
    "determination, also called the R-squared statistic or $R^2$. R-squared ranges from\n",
    "0 to 1 and measures the proportion of variation in the data that is accounted for\n",
    "in the model. It is useful mainly in explanatory uses of regression where you\n",
    "want to assess how well the model fits the data. The formula for $R^2$ is:\n",
    "\\begin{equation}\n",
    "R^2 = 1 - \\frac{\\sum^n_{i=1}{(y_i-\\hat{y_i})^2}}{\\sum^n_{i=1}{(y_i-\\overline{y_i})^2}}\n",
    "\\end{equation}\n",
    "The denominator is proportional to the variance of Y. You may also see reported the\n",
    "adjusted R-squared, which adjusts for the degrees of freedom; seldom\n",
    "is this significantly different in multiple regression.\n",
    "\n",
    "### Model Selection and Stepwise Regression\n",
    "\n",
    "In some problems, many variables could be used as predictors in a regression.\n",
    "For example, to predict house value, additional variables such as the basement\n",
    "size or year built could be used.\n",
    "\n",
    "Adding more variables, however, does not necessarily mean we have a better\n",
    "model. Statisticians use the principle of Occam’s razor to guide the choice of a\n",
    "model: all things being equal, a simpler model should be used in preference to a\n",
    "more complicated model.\n",
    "\n",
    "Including additional variables always reduces RMSE and increases $R^2$. Hence,\n",
    "these are not appropriate to help guide the model choice. In the 1970s, Hirotugu\n",
    "Akaike, the eminent Japanese statistician, deveoped a metric called AIC\n",
    "(Akaike’s Information Criteria) that penalizes adding terms to a model. In the\n",
    "case of regression, AIC has the form:\n",
    "\n",
    "\\begin{equation}\n",
    "AIC = 2P + n log(RSS/n)\n",
    "\\end{equation}\n",
    "\n",
    "where p is the number of variables and n is the number of records. The goal is to\n",
    "find the model that minimizes AIC; models with k more extra variables are\n",
    "penalized by 2k. RSS is the residual sum of squares.\n",
    "\n",
    "How do we find the model that minimizes AIC? One approach is to search\n",
    "through all possible models, called all subset regression. This is computationally\n",
    "expensive and is not feasible for problems with large data and many variables.\n",
    "An attractive alternative is to use stepwise regression, which successively adds\n",
    "and drops predictors to find a model that lowers AIC.\n",
    "\n",
    "Is is possible to try forward selection and backward selection. In forward selection,\n",
    "you start with no predictors and add them one-by-one, at each step adding the\n",
    "predictor that has the largest contribution to , stopping when the contribution\n",
    "is no longer statistically significant. In backward selection, or backward\n",
    "elimination, you start with the full model and take away predictors that are not\n",
    "statistically significant until you are left with a model in which all predictors are\n",
    "statistically significant.\n",
    "\n",
    "Penalized regression is similar in spirit to AIC. Instead of explicitly searching\n",
    "through a discrete set of models, the model-fitting equation incorporates a\n",
    "constraint that penalizes the model for too many variables (parameters). Rather\n",
    "than eliminating predictor variables entirely—as with stepwise, forward, and\n",
    "backward selection—penalized regression applies the penalty by reducing\n",
    "coefficients, in some cases to near zero. Common penalized regression methods\n",
    "are _ridge regression_ and _lasso regression_.\n",
    "\n",
    "Stepwise regression and all subset regression are in-sample methods to assess\n",
    "and tune models. This means the model selection is possibly subject to\n",
    "overfitting and may not perform as well when applied to new data. One common\n",
    "approach to avoid this is to use cross-validation to validate the models. In linear\n",
    "regression, overfitting is typically not a major issue, due to the simple (linear)\n",
    "global structure imposed on the data. For more sophisticated types of models,\n",
    "particularly iterative procedures that respond to local data structure, crossvalidation\n",
    "is a very important tool.\n",
    "\n",
    "### Weighted Regression\n",
    "\n",
    "Weighted regression is used by statisticians for a variety of purposes; in\n",
    "particular, it is important for analysis of complex surveys. Data scientists may\n",
    "find weighted regression useful in two cases:\n",
    "\n",
    "- Inverse-variance weighting when different observations have been measured with different precision.\n",
    "- Analysis of data in an aggregated form such that the weight variable encodes how many original observations each row in the aggregated data represents.\n",
    "\n",
    "The coefficents in the weighted regression are slightly different from the original\n",
    "regression.\n",
    "\n",
    "### Key Takeaways\n",
    "- Multiple linear regression models the relationship between a response variable Y and multiple predictor variables $X_1, ..., X_p$\n",
    "- The most important metrics to evaluate a model are root mean squared error (RMSE) and R-squared ($R^2$).\n",
    "- The standard error of the coefficients can be used to measure the reliability of a variable’s contribution to a model.\n",
    "- Stepwise regression is a way to automatically determine which variables should be included in the model.\n",
    "- Weighted regression is used to give certain records more or less weight in fitting the equation.\n",
    "\n",
    "## Prediction Using Regression\n",
    "\n",
    "- **Prediction interval**: An uncertainty interval around an individual predicted value.\n",
    "- **Extrapolation**: Extension of a model beyond the range of the data used to fit it.\n",
    "\n",
    "Regression models should not be used to extrapolate beyond the range of the\n",
    "data. The model is valid only for predictor values for which the data has\n",
    "sufficient values (even in the case that sufficient data is available, there could be\n",
    "other problems)\n",
    "\n",
    "### Confidence and Prediction Intervals\n",
    "\n",
    "Much of statistics involves understanding and measuring variability\n",
    "(uncertainty). Confidence intervals which are\n",
    "uncertainty intervals placed around regression coefficients and predictions. An\n",
    "easy way to understand this is via the bootstrap (see “The Bootstrap” for more\n",
    "details about the general bootstrap procedure). The most common regression\n",
    "confidence intervals encountered in software output are those for regression\n",
    "parameters (coefficients). Here is a bootstrap algorithm for generating\n",
    "confidence intervals for regression parameters (coefficients) for a data set with P\n",
    "predictors and n records (rows):\n",
    "\n",
    "1. Consider each row (including outcome variable) as a single \"ticket\" and place all the n tickets in a box.\n",
    "2. Draw a ticket at random, record the values, and replace it in the box.\n",
    "3. Repeat step 2 n times; you now have one bootstrap resample.\n",
    "4. Fit a regression to the bootstrap sample, and record the estimated coefficients.\n",
    "5. Repeat steps 2 through 4, say, 1,000 times.\n",
    "6. You now have 1,000 bootstrap values for each coefficient; find the appropriate percentiles for each one (e.g., 5th and 95th for a 90% confidence interval).\n",
    "\n",
    "The conceptual meaning and interpretation are the\n",
    "same, and not of central importance to data scientists, because they concern the\n",
    "regression coefficients. Of greater interest to data scientists are intervals around\n",
    "predicted y values ($\\hat{Y}_i$). The uncertainty \\hat{Y}_i around comes from two sources:\n",
    "\n",
    "- Uncertainty about what the relevant predictor variables and their coefficients are (see the preceding bootstrap algorithm)\n",
    "- Additional error inherent in individual data points\n",
    "\n",
    "The individual data point error can be thought of as follows: even if we knew for\n",
    "certain what the regression equation was (e.g., if we had a huge number of\n",
    "records to fit it), the actual outcome values for a given set of predictor values\n",
    "will vary. The bootstrap algorithm for modeling both the regression model error and the individual data\n",
    "point error would look as follows:\n",
    "\n",
    "1. Take a bootstrap sample from the data (spelled out in greater detail earlier).\n",
    "2. Fit the regression, and predict the new value.\n",
    "3. Take a single residual at random from the original regression fit, add it to the predicted value, and record the result.\n",
    "4. Repeat steps 1 through 3, say, 1,000 times.\n",
    "5. Find the 2.5th and the 97.5th percentiles of the results.\n",
    "\n",
    "**PREDICTION INTERVAL OR CONFIDENCE INTERVAL?**\n",
    "_A prediction interval pertains to uncertainty around a single value, while a confidence interval\n",
    "pertains to a mean or other statistic calculated from multiple values. Thus, a prediction interval\n",
    "will typically be much wider than a confidence interval for the same value. We model this\n",
    "individual value error in the bootstrap model by selecting an individual residual to tack on to\n",
    "the predicted value. Which should you use? That depends on the context and the purpose of the\n",
    "analysis, but, in general, data scientists are interested in specific individual predictions, so a\n",
    "prediction interval would be more appropriate. Using a confidence interval when you should\n",
    "be using a prediction interval will greatly underestimate the uncertainty in a given predicted\n",
    "value._\n",
    "\n",
    "### Key Takeaways\n",
    "- Extrapolation beyond the range of the data can lead to error.\n",
    "- Confidence intervals quantify uncertainty around regression coefficients.\n",
    "- Prediction intervals quantify uncertainty in individual predictions.\n",
    "- Most software, R included, will produce prediction and confidence intervals in default or specified output, using formulas.\n",
    "- The bootstrap can also be used; the interpretation and idea are the same.\n",
    "\n",
    "## Categorical Variables in Regression\n",
    "\n",
    "Regression requires numerical inputs, so categorical variables need to be recoded to use in the model. The\n",
    "most common approach is to convert a variable into a set of binary dummy variables.\n",
    "\n",
    "- **Dummy variables**: Binary 0–1 variables derived by recoding factor data for use in regression and other models.\n",
    "- **Reference coding**: The most common type of coding used by statisticians, in which one level of a factor is used as a reference and other factors are compared to that level.\n",
    "    - _Synonyms_: treatment coding\n",
    "- **One hot encoder**: A common type of coding used in the machine learning community in which all categorical levels are retained. While useful for certain machine learning algorithms, this approach is not appropriate for multiple linear regression.\n",
    "- **Deviation coding**: A type of coding that compares each level against the overall mean as opposed to the reference level.\n",
    "    - _Synonyms_: sum contrasts\n",
    "    \n",
    "Imagine we have a categorical feature that can take on three values: `Multiplex`, `Single Family` or `Townhouse`. To use this categorical variable, \n",
    "we need to convert it to a set of binary variables. We do this by creating a binary variable for each possible value of the categorical\n",
    "variable:"
   ]
  },
  {
   "cell_type": "code",
   "execution_count": 3,
   "metadata": {},
   "outputs": [
    {
     "data": {
      "text/html": [
       "<div>\n",
       "<style scoped>\n",
       "    .dataframe tbody tr th:only-of-type {\n",
       "        vertical-align: middle;\n",
       "    }\n",
       "\n",
       "    .dataframe tbody tr th {\n",
       "        vertical-align: top;\n",
       "    }\n",
       "\n",
       "    .dataframe thead th {\n",
       "        text-align: right;\n",
       "    }\n",
       "</style>\n",
       "<table border=\"1\" class=\"dataframe\">\n",
       "  <thead>\n",
       "    <tr style=\"text-align: right;\">\n",
       "      <th></th>\n",
       "      <th>Property Type</th>\n",
       "    </tr>\n",
       "  </thead>\n",
       "  <tbody>\n",
       "    <tr>\n",
       "      <th>0</th>\n",
       "      <td>Muliplex</td>\n",
       "    </tr>\n",
       "    <tr>\n",
       "      <th>1</th>\n",
       "      <td>Single Family</td>\n",
       "    </tr>\n",
       "    <tr>\n",
       "      <th>2</th>\n",
       "      <td>Single Family</td>\n",
       "    </tr>\n",
       "    <tr>\n",
       "      <th>3</th>\n",
       "      <td>Townhouse</td>\n",
       "    </tr>\n",
       "  </tbody>\n",
       "</table>\n",
       "</div>"
      ],
      "text/plain": [
       "   Property Type\n",
       "0       Muliplex\n",
       "1  Single Family\n",
       "2  Single Family\n",
       "3      Townhouse"
      ]
     },
     "execution_count": 3,
     "metadata": {},
     "output_type": "execute_result"
    }
   ],
   "source": [
    "df = pd.DataFrame({'Property Type': ['Muliplex', 'Single Family', 'Single Family', 'Townhouse']})\n",
    "df"
   ]
  },
  {
   "cell_type": "markdown",
   "metadata": {},
   "source": [
    "Now convert them to binary variables:"
   ]
  },
  {
   "cell_type": "code",
   "execution_count": 4,
   "metadata": {},
   "outputs": [
    {
     "data": {
      "text/html": [
       "<div>\n",
       "<style scoped>\n",
       "    .dataframe tbody tr th:only-of-type {\n",
       "        vertical-align: middle;\n",
       "    }\n",
       "\n",
       "    .dataframe tbody tr th {\n",
       "        vertical-align: top;\n",
       "    }\n",
       "\n",
       "    .dataframe thead th {\n",
       "        text-align: right;\n",
       "    }\n",
       "</style>\n",
       "<table border=\"1\" class=\"dataframe\">\n",
       "  <thead>\n",
       "    <tr style=\"text-align: right;\">\n",
       "      <th></th>\n",
       "      <th>Property Type_Muliplex</th>\n",
       "      <th>Property Type_Single Family</th>\n",
       "      <th>Property Type_Townhouse</th>\n",
       "    </tr>\n",
       "  </thead>\n",
       "  <tbody>\n",
       "    <tr>\n",
       "      <th>0</th>\n",
       "      <td>1</td>\n",
       "      <td>0</td>\n",
       "      <td>0</td>\n",
       "    </tr>\n",
       "    <tr>\n",
       "      <th>1</th>\n",
       "      <td>0</td>\n",
       "      <td>1</td>\n",
       "      <td>0</td>\n",
       "    </tr>\n",
       "    <tr>\n",
       "      <th>2</th>\n",
       "      <td>0</td>\n",
       "      <td>1</td>\n",
       "      <td>0</td>\n",
       "    </tr>\n",
       "    <tr>\n",
       "      <th>3</th>\n",
       "      <td>0</td>\n",
       "      <td>0</td>\n",
       "      <td>1</td>\n",
       "    </tr>\n",
       "  </tbody>\n",
       "</table>\n",
       "</div>"
      ],
      "text/plain": [
       "   Property Type_Muliplex  Property Type_Single Family  \\\n",
       "0                       1                            0   \n",
       "1                       0                            1   \n",
       "2                       0                            1   \n",
       "3                       0                            0   \n",
       "\n",
       "   Property Type_Townhouse  \n",
       "0                        0  \n",
       "1                        0  \n",
       "2                        0  \n",
       "3                        1  "
      ]
     },
     "execution_count": 4,
     "metadata": {},
     "output_type": "execute_result"
    }
   ],
   "source": [
    "pd.get_dummies(df)"
   ]
  },
  {
   "cell_type": "markdown",
   "metadata": {},
   "source": [
    "The factor categorical PropertyType, which has three distinct levels,\n",
    "is represented as a matrix with three columns. In the machine learning\n",
    "community, this representation is referred to as one hot encoding.\n",
    "In certain machine learning algorithms, such as nearest neighbors and\n",
    "tree models, one hot encoding is the standard way to represent categorical variables\n",
    "\n",
    "**DIFFERENT FACTOR CODINGS**\n",
    "_There are several different ways to encode factor variables, known as contrast coding systems.\n",
    "For example, deviation coding, also know as sum contrasts, compares each level against the\n",
    "overall mean. Another contrast is polynomial coding, which is appropriate for ordered factors;\n",
    "see the section \"Ordered Factor Variables\". With the exception of ordered factors, data\n",
    "scientists will generally not encounter any type of coding besides reference coding or one hot\n",
    "encoder._\n",
    "\n",
    "## Categorical Variables with Many Levels\n",
    "\n",
    "Some categorical variables can produce a huge number of binary dummies e.g postal codes. In such\n",
    "cases, it is useful to explore the data, and the relationships between predictor\n",
    "variables and the outcome, to determine whether useful information is contained\n",
    "in the categories. If so, you must further decide whether it is useful to retain all\n",
    "factors, or whether the levels should be consolidated.\n",
    "\n",
    "One approach is to group the postal codes according to another variable,\n",
    "such as sale price. Even better is to form postal code groups using the residuals\n",
    "from an initial model. For example, the median residual is computed for each postal code and the ntile function is used to\n",
    "split the postal codes, sorted by the median, into five groups\n",
    "\n",
    "### Ordered Factor Variables\n",
    "\n",
    "Some categorical variables reflect levels of a category; these are termed ordered factor\n",
    "variables or ordered categorical variables. For example, the loan grade could be\n",
    "A, B, C, and so on—each grade carries more risk than the prior grade. Ordered\n",
    "categorical variables can typically be converted to numerical values and used as is. \n",
    "Treating ordered categorical variables as a numeric variable preserves the information\n",
    "contained in the ordering that would be lost if it were converted to a factor.\n",
    "\n",
    "### Key Takeaways\n",
    "- Factor variables need to be converted into numeric variables for use in a regression.\n",
    "- The most common method to encode a factor variable with P distinct values is to represent them using P-1 dummy variables.\n",
    "- A factor variable with many levels, even in very big data sets, may need to be consolidated into a variable with fewer levels.\n",
    "- Some factors have levels that are ordered and can be represented as a single numeric variable.\n",
    "\n",
    "## Interpreting the Regression Equation\n",
    "\n",
    "In data science, the most important use of regression is to predict some\n",
    "dependent (outcome) variable. In some cases, however, gaining insight from the\n",
    "equation itself to understand the nature of the relationship between the predictors\n",
    "and the outcome can be of value.\n",
    "\n",
    "- **Correlated variables**: When the predictor variables are highly correlated, it is difficult to interpret the individual coefficients.\n",
    "- **Multicollinearity**: When the predictor variables have perfect, or near-perfect, correlation, the regression can be unstable or impossible to compute.\n",
    "    - _Synonyms_: collinearity\n",
    "- **Confounding variables** An important predictor that, when omitted, leads to spurious relationships in a regression equation.\n",
    "- **Main effects**: The relationship between a predictor and the outcome variable, independent from other variables.\n",
    "- **Interactions** An interdependent relationship between two or more predictors and the response.\n",
    "\n",
    "### Correlated Predictors\n",
    "\n",
    "In multiple regression, the predictor variables are often correlated with each\n",
    "other. For example if looking at housing data the coefficient for Bedrooms\n",
    "maybe negative, this implies that adding bedrooms to a house will reduce its value. This is because the predictor\n",
    "variables are correlated: larger houses tend to have more bedrooms, and it is the\n",
    "size that drives house value, not the number of bedrooms. Consider two homes\n",
    "of the exact same size: it is reasonable to expect that a home with more, but\n",
    "smaller, bedrooms would be considered less desirable.\n",
    "\n",
    "Having correlated predictors can make it difficult to interpret the sign and value\n",
    "of regression coefficients (and can inflate the standard error of the estimates).\n",
    "The variables for bedrooms, house size, and number of bathrooms are all\n",
    "correlated.\n",
    "\n",
    "Correlated variables are only one issue with interpreting regression coefficients.\n",
    "\n",
    "### Multicollinearity\n",
    "\n",
    "An extreme case of correlated variables produces multicollinearity—a condition\n",
    "in which there is redundance among the predictor variables. Perfect\n",
    "multicollinearity occurs when one predictor variable can be expressed as a linear\n",
    "combination of others. Multicollinearity occurs when:\n",
    "\n",
    "- A variable is included multiple times by error.\n",
    "- P dummies, instead of P – 1 dummies, are created from a factor variable.\n",
    "- Two variables are nearly perfectly correlated with one another.\n",
    "\n",
    "**Multicollinearity in regression must be addressed—variables should be removed\n",
    "until the multicollinearity is gone.** A regression does not have a well-defined\n",
    "solution in the presence of perfect multicollinearity\n",
    "\n",
    "### Confounding Variables\n",
    "With correlated variables, the problem is one of **commission**: including different\n",
    "variables that have a similar predictive relationship with the response. With\n",
    "confounding variables, the problem is one of **omission**: an important variable is\n",
    "not included in the regression equation. Naive interpretation of the equation\n",
    "coefficients can lead to invalid conclusions.\n",
    "\n",
    "For example a housing dataset without postal code does not contain information on location - \n",
    "a very important predictor in house price!\n",
    "\n",
    "### Interactions and Main Effects\n",
    "\n",
    "Statisticians like to distinguish between main effects, or independent variables,\n",
    "and the interactions between the main effects. Main effects are what are often\n",
    "referred to as the predictor variables in the regression equation. An implicit\n",
    "assumption when only main effects are used in a model is that the relationship\n",
    "between a predictor variable and the response is independent of the other\n",
    "predictor variables. This is often not the case.\n",
    "\n",
    "For example, location in real estate is everything, and it is natural to presume that the\n",
    "relationship between, say, house size and the sale price depends on location. A\n",
    "big house built in a low-rent district is not going to retain the same value as a big\n",
    "house built in an expensive area.\n",
    "\n",
    "#### Model Selection with Interaction Terms\n",
    "\n",
    "In problems involving many variables, it can be challenging to decide which interaction terms\n",
    "should be included in the model. Several different approaches are commonly taken:\n",
    "\n",
    "- In some problems, prior knowledge and intuition can guide the choice of which interaction terms to include in the model.\n",
    "- Stepwise selection (see \"Model Selection and Stepwise Regression\") can be used to sift through the various models.\n",
    "- Penalized regression can automatically fit to a large set of possible interaction terms.\n",
    "- Perhaps the most common approach is the use tree models, as well as their descendents, random forest and gradient boosted trees. This class of models automatically searches for optimal interaction terms\n",
    "\n",
    "### Key Takeaways\n",
    "\n",
    "- Because of correlation between predictors, care must be taken in the interpretation of the coefficients in multiple linear regression.\n",
    "- Multicollinearity can cause numerical instability in fitting the regression equation.\n",
    "- A confounding variable is an important predictor that is omitted from a model and can lead to a regression equation with spurious relationships.\n",
    "- An interaction term between two variables is needed if the relationship between the variables and the response is interdependent.\n",
    "\n",
    "### Testing the Assumptions: Regression Diagnostics\n",
    "\n",
    "- **Standardized residuals**: Residuals divided by the standard error of the residuals.\n",
    "- **Outliers**: Records (or outcome values) that are distant from the rest of the data (or the predicted outcome).\n",
    "- **Influential value**: A value or record whose presence or absence makes a big difference in the regression equation.\n",
    "- **Leverage**: The degree of influence that a single record has on a regression equation.\n",
    "    - _Synonyms_: hat-value\n",
    "- **Non-normal residuals**: Non-normally distributed residuals can invalidate some technical requirements of regression, but are usually not a concern in data science.\n",
    "- **Heteroskedasticity**: When some ranges of the outcome experience residuals with higher variance (may indicate a predictor missing from the equation).\n",
    "- **Partial residual plots**: A diagnostic plot to illuminate the relationship between the outcome variable and a single predictor.\n",
    "    - _Synonyms_: added variables plot\n",
    "    \n",
    "#### Outliers\n",
    "\n",
    "Generally speaking, an extreme value, also called an outlier, is one that is distant\n",
    "from most of the other observations. In regression, an outlier is a record whose actual y value is distant from the\n",
    "predicted value. You can detect outliers by examining the _standardized residual_,\n",
    "which is the residual divided by the standard error of the residuals.\n",
    "\n",
    "There is no statistical theory that separates outliers from nonoutliers. Rather,\n",
    "there are (arbitrary) rules of thumb for how distant from the bulk of the data an\n",
    "observation needs to be in order to be called an outlier. For example, with the\n",
    "boxplot, outliers are those data points that are too far above or below the box\n",
    "boundaries, where \"too far\" = \"more than 1.5\n",
    "times the inter-quartile range.\" In regression, the standardized residual is the\n",
    "metric that is typically used to determine whether a record is classified as an\n",
    "outlier. Standardized residuals can be interpreted as “the number of standard\n",
    "errors away from the regression line.”"
   ]
  },
  {
   "cell_type": "code",
   "execution_count": 2,
   "metadata": {},
   "outputs": [
    {
     "name": "stdout",
     "output_type": "stream",
     "text": [
      ".. _boston_dataset:\n",
      "\n",
      "Boston house prices dataset\n",
      "---------------------------\n",
      "\n",
      "**Data Set Characteristics:**  \n",
      "\n",
      "    :Number of Instances: 506 \n",
      "\n",
      "    :Number of Attributes: 13 numeric/categorical predictive. Median Value (attribute 14) is usually the target.\n",
      "\n",
      "    :Attribute Information (in order):\n",
      "        - CRIM     per capita crime rate by town\n",
      "        - ZN       proportion of residential land zoned for lots over 25,000 sq.ft.\n",
      "        - INDUS    proportion of non-retail business acres per town\n",
      "        - CHAS     Charles River dummy variable (= 1 if tract bounds river; 0 otherwise)\n",
      "        - NOX      nitric oxides concentration (parts per 10 million)\n",
      "        - RM       average number of rooms per dwelling\n",
      "        - AGE      proportion of owner-occupied units built prior to 1940\n",
      "        - DIS      weighted distances to five Boston employment centres\n",
      "        - RAD      index of accessibility to radial highways\n",
      "        - TAX      full-value property-tax rate per $10,000\n",
      "        - PTRATIO  pupil-teacher ratio by town\n",
      "        - B        1000(Bk - 0.63)^2 where Bk is the proportion of blacks by town\n",
      "        - LSTAT    % lower status of the population\n",
      "        - MEDV     Median value of owner-occupied homes in $1000's\n",
      "\n",
      "    :Missing Attribute Values: None\n",
      "\n",
      "    :Creator: Harrison, D. and Rubinfeld, D.L.\n",
      "\n",
      "This is a copy of UCI ML housing dataset.\n",
      "https://archive.ics.uci.edu/ml/machine-learning-databases/housing/\n",
      "\n",
      "\n",
      "This dataset was taken from the StatLib library which is maintained at Carnegie Mellon University.\n",
      "\n",
      "The Boston house-price data of Harrison, D. and Rubinfeld, D.L. 'Hedonic\n",
      "prices and the demand for clean air', J. Environ. Economics & Management,\n",
      "vol.5, 81-102, 1978.   Used in Belsley, Kuh & Welsch, 'Regression diagnostics\n",
      "...', Wiley, 1980.   N.B. Various transformations are used in the table on\n",
      "pages 244-261 of the latter.\n",
      "\n",
      "The Boston house-price data has been used in many machine learning papers that address regression\n",
      "problems.   \n",
      "     \n",
      ".. topic:: References\n",
      "\n",
      "   - Belsley, Kuh & Welsch, 'Regression diagnostics: Identifying Influential Data and Sources of Collinearity', Wiley, 1980. 244-261.\n",
      "   - Quinlan,R. (1993). Combining Instance-Based and Model-Based Learning. In Proceedings on the Tenth International Conference of Machine Learning, 236-243, University of Massachusetts, Amherst. Morgan Kaufmann.\n",
      "\n"
     ]
    }
   ],
   "source": [
    "# Load in the Boston housing dataset\n",
    "data = load_boston()\n",
    "X, y = load_boston(return_X_y=True)\n",
    "print(data['DESCR'])"
   ]
  },
  {
   "cell_type": "code",
   "execution_count": 3,
   "metadata": {},
   "outputs": [
    {
     "data": {
      "text/html": [
       "<div>\n",
       "<style scoped>\n",
       "    .dataframe tbody tr th:only-of-type {\n",
       "        vertical-align: middle;\n",
       "    }\n",
       "\n",
       "    .dataframe tbody tr th {\n",
       "        vertical-align: top;\n",
       "    }\n",
       "\n",
       "    .dataframe thead th {\n",
       "        text-align: right;\n",
       "    }\n",
       "</style>\n",
       "<table border=\"1\" class=\"dataframe\">\n",
       "  <thead>\n",
       "    <tr style=\"text-align: right;\">\n",
       "      <th></th>\n",
       "      <th>CRIM</th>\n",
       "      <th>ZN</th>\n",
       "      <th>INDUS</th>\n",
       "      <th>CHAS</th>\n",
       "      <th>NOX</th>\n",
       "      <th>RM</th>\n",
       "      <th>AGE</th>\n",
       "      <th>DIS</th>\n",
       "      <th>RAD</th>\n",
       "      <th>TAX</th>\n",
       "      <th>PTRATIO</th>\n",
       "      <th>B</th>\n",
       "      <th>LSTAT</th>\n",
       "    </tr>\n",
       "  </thead>\n",
       "  <tbody>\n",
       "    <tr>\n",
       "      <th>0</th>\n",
       "      <td>0.00632</td>\n",
       "      <td>18.0</td>\n",
       "      <td>2.31</td>\n",
       "      <td>0.0</td>\n",
       "      <td>0.538</td>\n",
       "      <td>6.575</td>\n",
       "      <td>65.2</td>\n",
       "      <td>4.0900</td>\n",
       "      <td>1.0</td>\n",
       "      <td>296.0</td>\n",
       "      <td>15.3</td>\n",
       "      <td>396.90</td>\n",
       "      <td>4.98</td>\n",
       "    </tr>\n",
       "    <tr>\n",
       "      <th>1</th>\n",
       "      <td>0.02731</td>\n",
       "      <td>0.0</td>\n",
       "      <td>7.07</td>\n",
       "      <td>0.0</td>\n",
       "      <td>0.469</td>\n",
       "      <td>6.421</td>\n",
       "      <td>78.9</td>\n",
       "      <td>4.9671</td>\n",
       "      <td>2.0</td>\n",
       "      <td>242.0</td>\n",
       "      <td>17.8</td>\n",
       "      <td>396.90</td>\n",
       "      <td>9.14</td>\n",
       "    </tr>\n",
       "    <tr>\n",
       "      <th>2</th>\n",
       "      <td>0.02729</td>\n",
       "      <td>0.0</td>\n",
       "      <td>7.07</td>\n",
       "      <td>0.0</td>\n",
       "      <td>0.469</td>\n",
       "      <td>7.185</td>\n",
       "      <td>61.1</td>\n",
       "      <td>4.9671</td>\n",
       "      <td>2.0</td>\n",
       "      <td>242.0</td>\n",
       "      <td>17.8</td>\n",
       "      <td>392.83</td>\n",
       "      <td>4.03</td>\n",
       "    </tr>\n",
       "    <tr>\n",
       "      <th>3</th>\n",
       "      <td>0.03237</td>\n",
       "      <td>0.0</td>\n",
       "      <td>2.18</td>\n",
       "      <td>0.0</td>\n",
       "      <td>0.458</td>\n",
       "      <td>6.998</td>\n",
       "      <td>45.8</td>\n",
       "      <td>6.0622</td>\n",
       "      <td>3.0</td>\n",
       "      <td>222.0</td>\n",
       "      <td>18.7</td>\n",
       "      <td>394.63</td>\n",
       "      <td>2.94</td>\n",
       "    </tr>\n",
       "    <tr>\n",
       "      <th>4</th>\n",
       "      <td>0.06905</td>\n",
       "      <td>0.0</td>\n",
       "      <td>2.18</td>\n",
       "      <td>0.0</td>\n",
       "      <td>0.458</td>\n",
       "      <td>7.147</td>\n",
       "      <td>54.2</td>\n",
       "      <td>6.0622</td>\n",
       "      <td>3.0</td>\n",
       "      <td>222.0</td>\n",
       "      <td>18.7</td>\n",
       "      <td>396.90</td>\n",
       "      <td>5.33</td>\n",
       "    </tr>\n",
       "    <tr>\n",
       "      <th>...</th>\n",
       "      <td>...</td>\n",
       "      <td>...</td>\n",
       "      <td>...</td>\n",
       "      <td>...</td>\n",
       "      <td>...</td>\n",
       "      <td>...</td>\n",
       "      <td>...</td>\n",
       "      <td>...</td>\n",
       "      <td>...</td>\n",
       "      <td>...</td>\n",
       "      <td>...</td>\n",
       "      <td>...</td>\n",
       "      <td>...</td>\n",
       "    </tr>\n",
       "    <tr>\n",
       "      <th>501</th>\n",
       "      <td>0.06263</td>\n",
       "      <td>0.0</td>\n",
       "      <td>11.93</td>\n",
       "      <td>0.0</td>\n",
       "      <td>0.573</td>\n",
       "      <td>6.593</td>\n",
       "      <td>69.1</td>\n",
       "      <td>2.4786</td>\n",
       "      <td>1.0</td>\n",
       "      <td>273.0</td>\n",
       "      <td>21.0</td>\n",
       "      <td>391.99</td>\n",
       "      <td>9.67</td>\n",
       "    </tr>\n",
       "    <tr>\n",
       "      <th>502</th>\n",
       "      <td>0.04527</td>\n",
       "      <td>0.0</td>\n",
       "      <td>11.93</td>\n",
       "      <td>0.0</td>\n",
       "      <td>0.573</td>\n",
       "      <td>6.120</td>\n",
       "      <td>76.7</td>\n",
       "      <td>2.2875</td>\n",
       "      <td>1.0</td>\n",
       "      <td>273.0</td>\n",
       "      <td>21.0</td>\n",
       "      <td>396.90</td>\n",
       "      <td>9.08</td>\n",
       "    </tr>\n",
       "    <tr>\n",
       "      <th>503</th>\n",
       "      <td>0.06076</td>\n",
       "      <td>0.0</td>\n",
       "      <td>11.93</td>\n",
       "      <td>0.0</td>\n",
       "      <td>0.573</td>\n",
       "      <td>6.976</td>\n",
       "      <td>91.0</td>\n",
       "      <td>2.1675</td>\n",
       "      <td>1.0</td>\n",
       "      <td>273.0</td>\n",
       "      <td>21.0</td>\n",
       "      <td>396.90</td>\n",
       "      <td>5.64</td>\n",
       "    </tr>\n",
       "    <tr>\n",
       "      <th>504</th>\n",
       "      <td>0.10959</td>\n",
       "      <td>0.0</td>\n",
       "      <td>11.93</td>\n",
       "      <td>0.0</td>\n",
       "      <td>0.573</td>\n",
       "      <td>6.794</td>\n",
       "      <td>89.3</td>\n",
       "      <td>2.3889</td>\n",
       "      <td>1.0</td>\n",
       "      <td>273.0</td>\n",
       "      <td>21.0</td>\n",
       "      <td>393.45</td>\n",
       "      <td>6.48</td>\n",
       "    </tr>\n",
       "    <tr>\n",
       "      <th>505</th>\n",
       "      <td>0.04741</td>\n",
       "      <td>0.0</td>\n",
       "      <td>11.93</td>\n",
       "      <td>0.0</td>\n",
       "      <td>0.573</td>\n",
       "      <td>6.030</td>\n",
       "      <td>80.8</td>\n",
       "      <td>2.5050</td>\n",
       "      <td>1.0</td>\n",
       "      <td>273.0</td>\n",
       "      <td>21.0</td>\n",
       "      <td>396.90</td>\n",
       "      <td>7.88</td>\n",
       "    </tr>\n",
       "  </tbody>\n",
       "</table>\n",
       "<p>506 rows × 13 columns</p>\n",
       "</div>"
      ],
      "text/plain": [
       "        CRIM    ZN  INDUS  CHAS    NOX     RM   AGE     DIS  RAD    TAX  \\\n",
       "0    0.00632  18.0   2.31   0.0  0.538  6.575  65.2  4.0900  1.0  296.0   \n",
       "1    0.02731   0.0   7.07   0.0  0.469  6.421  78.9  4.9671  2.0  242.0   \n",
       "2    0.02729   0.0   7.07   0.0  0.469  7.185  61.1  4.9671  2.0  242.0   \n",
       "3    0.03237   0.0   2.18   0.0  0.458  6.998  45.8  6.0622  3.0  222.0   \n",
       "4    0.06905   0.0   2.18   0.0  0.458  7.147  54.2  6.0622  3.0  222.0   \n",
       "..       ...   ...    ...   ...    ...    ...   ...     ...  ...    ...   \n",
       "501  0.06263   0.0  11.93   0.0  0.573  6.593  69.1  2.4786  1.0  273.0   \n",
       "502  0.04527   0.0  11.93   0.0  0.573  6.120  76.7  2.2875  1.0  273.0   \n",
       "503  0.06076   0.0  11.93   0.0  0.573  6.976  91.0  2.1675  1.0  273.0   \n",
       "504  0.10959   0.0  11.93   0.0  0.573  6.794  89.3  2.3889  1.0  273.0   \n",
       "505  0.04741   0.0  11.93   0.0  0.573  6.030  80.8  2.5050  1.0  273.0   \n",
       "\n",
       "     PTRATIO       B  LSTAT  \n",
       "0       15.3  396.90   4.98  \n",
       "1       17.8  396.90   9.14  \n",
       "2       17.8  392.83   4.03  \n",
       "3       18.7  394.63   2.94  \n",
       "4       18.7  396.90   5.33  \n",
       "..       ...     ...    ...  \n",
       "501     21.0  391.99   9.67  \n",
       "502     21.0  396.90   9.08  \n",
       "503     21.0  396.90   5.64  \n",
       "504     21.0  393.45   6.48  \n",
       "505     21.0  396.90   7.88  \n",
       "\n",
       "[506 rows x 13 columns]"
      ]
     },
     "execution_count": 3,
     "metadata": {},
     "output_type": "execute_result"
    }
   ],
   "source": [
    "df = pd.DataFrame(X, columns=data['feature_names'])\n",
    "df"
   ]
  },
  {
   "cell_type": "code",
   "execution_count": 4,
   "metadata": {},
   "outputs": [],
   "source": [
    "# Fit a quick linear model\n",
    "lr = LinearRegression().fit(X, y)"
   ]
  },
  {
   "cell_type": "code",
   "execution_count": 5,
   "metadata": {},
   "outputs": [
    {
     "data": {
      "text/plain": [
       "4.6838218671379"
      ]
     },
     "execution_count": 5,
     "metadata": {},
     "output_type": "execute_result"
    }
   ],
   "source": [
    "# Calcualte the standard error\n",
    "standard_error = np.sqrt(np.sum((lr.predict(X) - y) ** 2) / (X.shape[0] - 1))\n",
    "standard_error"
   ]
  },
  {
   "cell_type": "code",
   "execution_count": 6,
   "metadata": {},
   "outputs": [
    {
     "data": {
      "text/plain": [
       "5.593566903499207"
      ]
     },
     "execution_count": 6,
     "metadata": {},
     "output_type": "execute_result"
    }
   ],
   "source": [
    "\"\"\"\n",
    "We extract the standardized residuals and obtain the max residual\n",
    "\"\"\"\n",
    "np.max(np.abs((lr.predict(X) - y) / standard_error))"
   ]
  },
  {
   "cell_type": "markdown",
   "metadata": {},
   "source": [
    "The biggest overestimate from the model is more than 5 standard errors above the regression line!"
   ]
  },
  {
   "cell_type": "code",
   "execution_count": 7,
   "metadata": {},
   "outputs": [
    {
     "data": {
      "text/plain": [
       "368"
      ]
     },
     "execution_count": 7,
     "metadata": {},
     "output_type": "execute_result"
    }
   ],
   "source": [
    "\"\"\"\n",
    "Find the index of the data point which leads to this error\n",
    "\"\"\"\n",
    "np.argsort(np.abs((lr.predict(X) - y) / standard_error))[-1]"
   ]
  },
  {
   "cell_type": "code",
   "execution_count": 8,
   "metadata": {},
   "outputs": [
    {
     "name": "stdout",
     "output_type": "stream",
     "text": [
      "Actual Y: 50.0\n",
      "Predicted Y: [23.80072902]\n",
      "Difference: [-26.19927098]\n",
      "Standardised Error: [-5.5935669]\n"
     ]
    }
   ],
   "source": [
    "print('Actual Y:', y[368])\n",
    "print('Predicted Y:', lr.predict([X[368,]]))\n",
    "print('Difference:', lr.predict([X[368,]]) - y[368])\n",
    "print('Standardised Error:', (lr.predict([X[368,]]) - y[368]) / standard_error)"
   ]
  },
  {
   "cell_type": "markdown",
   "metadata": {},
   "source": [
    "For big data problems, outliers are generally not a problem in fitting the\n",
    "regression to be used in predicting new data. However, outliers are central to\n",
    "anomaly detection, where finding outliers is the whole point. The outlier could\n",
    "also correspond to a case of fraud or an accidental action. In any case, detecting\n",
    "outliers can be a critical business need.\n",
    "\n",
    "#### Influential Values\n",
    "\n",
    "A value whose absence would significantly change the regression equation is\n",
    "termed an infuential observation. In regression, such a value need not be\n",
    "associated with a large residual.\n",
    "\n",
    "In addition to standardized residuals (see \"Outliers\"), statisticians have\n",
    "developed several metrics to determine the influence of a single record on a\n",
    "regression. A common measure of leverage is the hat-value; values above 2(P+1)/n\n",
    "indicate a high-leverage data value\n",
    "\n",
    "Another metric is Cook’s distance, which defines influence as a combination of\n",
    "leverage and residual size. A rule of thumb is that an observation has high\n",
    "influence if Cook’s distance exceeds 4 / (n - P - 1)\n",
    "\n",
    "Compare the regression with the full data set and with highly\n",
    "influential data points removed and yoy may see large differnces!\n",
    "For purposes of fitting a regression that reliably predicts future data, identifying\n",
    "influential observations is only useful in smaller data sets. For regressions\n",
    "involving many records, it is unlikely that any one observation will carry\n",
    "sufficient weight to cause extreme influence on the fitted equation (although the\n",
    "regression may still have big outliers). For purposes of anomaly detection,\n",
    "though, identifying influential observations can be very useful.\n",
    "\n",
    "### Heteroskedasticity, Non-Normality and Correlated Errors\n",
    "\n",
    "Statisticians pay considerable attention to the distribution of the residuals. The distribution of the residuals is relevant mainly for the validity of formal\n",
    "statistical inference (hypothesis tests and p-values), which is of minimal\n",
    "importance to data scientists concerned mainly with predictive accuracy. For\n",
    "formal inference to be fully valid, the residuals are assumed to be normally\n",
    "distributed, have the same variance, and be independent.\n",
    "\n",
    "_Heteroskedasticity_ is the lack of constant residual variance across the range of\n",
    "the predicted values. In other words, errors are greater for some portions of the\n",
    "range than for others. **Heteroskedasticity indicates that prediction errors differ for different ranges of the predicted\n",
    "value, and may suggest an incomplete model. For example, the heteroskedasticity**\n",
    "\n",
    "The distribution below has decidely longer tails than the normal\n",
    "distribution, and exhibits mild skewness toward lower residuals suggesting heteroskedasticity"
   ]
  },
  {
   "cell_type": "code",
   "execution_count": 14,
   "metadata": {},
   "outputs": [
    {
     "data": {
      "text/plain": [
       "<AxesSubplot:>"
      ]
     },
     "execution_count": 14,
     "metadata": {},
     "output_type": "execute_result"
    },
    {
     "data": {
      "image/png": "[encoded data removed]",
      "text/plain": [
       "<Figure size 432x288 with 1 Axes>"
      ]
     },
     "metadata": {
      "needs_background": "light"
     },
     "output_type": "display_data"
    }
   ],
   "source": [
    "standard_residuals = (lr.predict(X) - y) / standard_error\n",
    "sns.distplot(standard_residuals)"
   ]
  },
  {
   "cell_type": "markdown",
   "metadata": {},
   "source": [
    "Even though a regression may violate one of the distributional assumptions,\n",
    "should we care? Most often in data science, the interest is primarily in predictive\n",
    "accuracy, so some review of heteroskedasticity may be in order. You may\n",
    "discover that there is some signal in the data that your model has not captured.\n",
    "Satisfying distributional assumptions simply for the sake of validating formal\n",
    "statistical inference (p-values, F-statistics, etc.), however, is not that important\n",
    "for the data scientist.\n",
    "\n",
    "### Partial Residual Plots and Nonlinearity\n",
    "\n",
    "Partial residual plots are a way to visualize how well the estimated fit explains\n",
    "the relationship between a predictor and the outcome. Along with detection of\n",
    "outliers, this is probably the most important diagnostic for data scientists. The\n",
    "basic idea of a partial residual plot is to isolate the relationship between a\n",
    "predictor variable and the response, taking into account all of the other predictor\n",
    "variables. A partial residual might be thought of as a “synthetic outcome” value,\n",
    "combining the prediction based on a single predictor with the actual residual\n",
    "from the full regression equation. A partial residual for $X_i$ predictor is the\n",
    "ordinary residual plus the regression term associated with $X_i$:\n",
    "\n",
    "\\begin{equation}\n",
    "Partial Residual = Residual + \\hat{b}_iX_i\n",
    "\\end{equation}\n",
    "\n",
    "where $\\hat{b}_i$ is the estiated regression coefficient.\n",
    "\n",
    "The partial residual plot displays the on the x-axis and the partial residuals on\n",
    "the y-axis. From the boston housing dataset let's look at the `RM` feature which is the\n",
    "average number of rooms per dwelling and plot the partial residuals for this feature."
   ]
  },
  {
   "cell_type": "code",
   "execution_count": 33,
   "metadata": {},
   "outputs": [
    {
     "data": {
      "text/plain": [
       "(5, 3.809865206809234)"
      ]
     },
     "execution_count": 33,
     "metadata": {},
     "output_type": "execute_result"
    }
   ],
   "source": [
    "# Extract the column index and the assoicated coeff for this feature\n",
    "feature_index = list(df.columns).index('RM')\n",
    "feature_coef = lr.coef_[feature_index]\n",
    "feature_index, feature_coef"
   ]
  },
  {
   "cell_type": "code",
   "execution_count": 26,
   "metadata": {},
   "outputs": [],
   "source": [
    "# Calucate the residuals and partial residuals\n",
    "y_pred = lr.predict(X)\n",
    "residuals = y - y_pred\n",
    "partial_residuals = residuals + (feature_coef * df['RM'])"
   ]
  },
  {
   "cell_type": "code",
   "execution_count": 32,
   "metadata": {},
   "outputs": [
    {
     "data": {
      "text/plain": [
       "Text(0, 0.5, 'Partial Residual')"
      ]
     },
     "execution_count": 32,
     "metadata": {},
     "output_type": "execute_result"
    },
    {
     "data": {
      "image/png": "[encoded data removed]",
      "text/plain": [
       "<Figure size 432x288 with 1 Axes>"
      ]
     },
     "metadata": {
      "needs_background": "light"
     },
     "output_type": "display_data"
    }
   ],
   "source": [
    "# Plot the partial residuals against the feature values\n",
    "# Also plot the regression line for this feature\n",
    "sns.scatterplot(df['RM'], partial_residuals)\n",
    "sns.lineplot(df['RM'], feature_coef * df['RM'], color='red')\n",
    "plt.xlabel('RM')\n",
    "plt.ylabel('Partial Residual')"
   ]
  },
  {
   "cell_type": "markdown",
   "metadata": {},
   "source": [
    "From the above plot we can see the the relationship between the `RM` and house price in non-linear.The regression line underestimates as lower and higher `RM` values. This suggests instead of simple lineat term for `RM`, a non-linear term should be considered.\n",
    "\n",
    "### Key Takeaways\n",
    "\n",
    "- While outliers can cause problems for small data sets, the primary interest with outliers is to identify problems with the data, or locate anomalies.\n",
    "- Single records (including regression outliers) can have a big influence on a regression equation with small data, but this effect washes out in big data.\n",
    "- If the regression model is used for formal inference (p-values and the like), then certain assumptions about the distribution of the residuals should be checked. In general, however, the distribution of residuals is not critical in data science.\n",
    "- The partial residuals plot can be used to qualitatively assess the fit for each regression term, possibly leading to alternative model specification.\n",
    "\n",
    "## Polynomial and Spline Regression\n",
    "\n",
    "The relationship between the response and a predictor variable is not necessarily\n",
    "linear. The response to the dose of a drug is often nonlinear: doubling the dosage\n",
    "generally doesn’t lead to a doubled response. The demand for a product is not a\n",
    "linear function of marketing dollars spent since, at some point, demand is likely\n",
    "to be saturated. There are several ways that regression can be extended to\n",
    "capture these nonlinear effects.\n",
    "\n",
    "- **Polynomial regression**: Adds polynomial terms (squares, cubes, etc.) to a regression.\n",
    "- **Spline regression**: Fitting a smooth curve with a series of polynomial segments.\n",
    "- **Knots**: Values that separate spline segments.\n",
    "- **Generalized additive models**:Spline models with automated selection of knots.\n",
    "    - _Synonyms_: GAM\n",
    "    \n",
    "When statisticians talk about nonlinear regression, they are referring to models that can’t be fit\n",
    "using least squares. What kind of models are nonlinear? Essentially all models where the\n",
    "response cannot be expressed as a linear combination of the predictors or some transform of\n",
    "the predictors. Nonlinear regression models are harder and computationally more intensive to\n",
    "fit, since they require numerical optimization\n",
    "\n",
    "### Polynomial\n",
    "Polynomial regression involves including polynomial terms to a regression\n",
    "equation. For\n",
    "example, a quadratic regression between the response Y and the predictor X\n",
    "would take the form:\n",
    "\n",
    "\\begin{equation}\n",
    "Y = b_0 + b_1X + b_2X^2 + e\n",
    "\\end{equation}\n",
    "\n",
    "Let's try and fit a polynomial regression model to the housing dataset"
   ]
  },
  {
   "cell_type": "code",
   "execution_count": 24,
   "metadata": {},
   "outputs": [],
   "source": [
    "poly = PolynomialFeatures(2).fit_transform(X)\n",
    "lr_poly = LinearRegression().fit(poly, y)\n",
    "lr = LinearRegression().fit(X, y)"
   ]
  },
  {
   "cell_type": "code",
   "execution_count": 28,
   "metadata": {},
   "outputs": [
    {
     "name": "stdout",
     "output_type": "stream",
     "text": [
      "Linear Regression Error: 4.679191295697282\n",
      "Polynomial Regression Error: 2.5330157048406727\n"
     ]
    }
   ],
   "source": [
    "print('Linear Regression Error:', np.sqrt(mean_squared_error(lr.predict(X), y)))\n",
    "print('Polynomial Regression Error:', np.sqrt(mean_squared_error(lr_poly.predict(poly), y)))"
   ]
  },
  {
   "cell_type": "markdown",
   "metadata": {},
   "source": [
    "As you can see the polynomial regression performs better than the standard linear regression. The number of features has now increased and also the number of co-efficients. Scikit-learn does'nt make it easy to determine which feature is which :/\n",
    "\n",
    "Let's manually create a features by squared `RM` and plot this features partial residuals:"
   ]
  },
  {
   "cell_type": "code",
   "execution_count": 34,
   "metadata": {},
   "outputs": [
    {
     "name": "stdout",
     "output_type": "stream",
     "text": [
      "Linear Regression Error: 4.074145607639621\n"
     ]
    }
   ],
   "source": [
    "df['RM_squared'] =  df['RM'] ** 2\n",
    "lr = LinearRegression().fit(df, y)\n",
    "print('Linear Regression Error:', np.sqrt(mean_squared_error(lr.predict(df), y)))"
   ]
  },
  {
   "cell_type": "code",
   "execution_count": 35,
   "metadata": {},
   "outputs": [
    {
     "data": {
      "text/plain": [
       "(13, 2.5621016525733897)"
      ]
     },
     "execution_count": 35,
     "metadata": {},
     "output_type": "execute_result"
    }
   ],
   "source": [
    "# Extract the column index and the assoicated coeff for this feature\n",
    "feature_index = list(df.columns).index('RM_squared')\n",
    "feature_coef = lr.coef_[feature_index]\n",
    "feature_index, feature_coef"
   ]
  },
  {
   "cell_type": "code",
   "execution_count": 36,
   "metadata": {},
   "outputs": [],
   "source": [
    "y_pred = lr.predict(df)\n",
    "residuals = y - y_pred\n",
    "partial_residuals = residuals + (feature_coef * df['RM_squared'])"
   ]
  },
  {
   "cell_type": "code",
   "execution_count": 41,
   "metadata": {},
   "outputs": [
    {
     "data": {
      "text/plain": [
       "Text(0, 0.5, 'Partial Residual')"
      ]
     },
     "execution_count": 41,
     "metadata": {},
     "output_type": "execute_result"
    },
    {
     "data": {
      "image/png": "[encoded data removed]",
      "text/plain": [
       "<Figure size 432x288 with 1 Axes>"
      ]
     },
     "metadata": {
      "needs_background": "light"
     },
     "output_type": "display_data"
    }
   ],
   "source": [
    "# Plot the partial residuals against the feature values\n",
    "# Also plot the regression line for this feature\n",
    "sns.scatterplot(df['RM'], partial_residuals)\n",
    "sns.lineplot(df['RM'], feature_coef * df['RM_squared'], color='red')\n",
    "plt.xlabel('RM')\n",
    "plt.ylabel('Partial Residual')"
   ]
  },
  {
   "cell_type": "markdown",
   "metadata": {},
   "source": [
    "See how the `RM Squared` feature now nicely fits on a polynomial line after transformation compared to the untransformed `RM` feature plotted previously.\n",
    "\n",
    "### Splines\n",
    "\n",
    "Polynomial regression only captures a certain amount of curvature in a nonlinear\n",
    "relationship. Adding in higher-order terms, such as a cubic quartic polynomial,\n",
    "often leads to undesirable \"wiggliness\" in the regression equation. An\n",
    "alternative, and often superior, approach to modeling nonlinear relationships is to\n",
    "use splines. Splines provide a way to smoothly interpolate between fixed points.\n",
    "\n",
    "The technical definition of a spline is a series of piecewise continuous\n",
    "polynomials. Formulation of splines is much more\n",
    "complicated than polynomial regression; statistical software usually handles the\n",
    "details of fitting a spline. This is where the `PolynomialFeatures` from sklearn\n",
    "comes in. This class takes a single input (degree) which decided the number of polynomials to construct \n",
    "for each feature. It generates a new feature matrix consisting of all polynomial combinations of the features. The following list defines\n",
    "the degrees:\n",
    "\n",
    "- 0: Constant\n",
    "- 1: Linear\n",
    "- 2: Quadratic\n",
    "- 3: Cubic\n",
    "- 4: Quartic\n",
    "- 5: Quintic\n",
    "\n",
    "In contrast to a linear term, for which the coefficient has a direct meaning, the\n",
    "coefficients for a spline term are not interpretable. Instead, it is more useful to\n",
    "use the visual display to reveal the nature of the spline fit\n",
    "\n",
    "### Generative Additive Models\n",
    "\n",
    "Suppose you suspect a nonlinear relationship between the response and a\n",
    "predictor variable, either by a priori knowledge or by examining the regression\n",
    "diagnostics. Polynomial terms may not flexible enough to capture the\n",
    "relationship, and spline terms require specifying the knots. Generalized additive\n",
    "models, or GAM, are a technique to automatically fit a spline regression\n",
    "\n",
    "### Key Ideas\n",
    "- Outliers in a regression are records with a large residual\n",
    "- Multicollinearity can cause numerical instability in fitting the regression equation.\n",
    "- A confounding variable is an important predictor that is omitted from a model and can lead to a regression equation with spurious relationships.\n",
    "- An interaction term between two variables is needed if the effect of one variable depends on the level of the other.\n",
    "- Polynomial regression can fit nonlinear relationships between predictors and the outcome variable.\n",
    "- Generalized additive models (GAM) automate the process of specifying the knots in splines."
   ]
  },
  {
   "cell_type": "code",
   "execution_count": null,
   "metadata": {},
   "outputs": [],
   "source": []
  }
 ],
 "metadata": {
  "kernelspec": {
   "display_name": "Python 3",
   "language": "python",
   "name": "python3"
  },
  "language_info": {
   "codemirror_mode": {
    "name": "ipython",
    "version": 3
   },
   "file_extension": ".py",
   "mimetype": "text/x-python",
   "name": "python",
   "nbconvert_exporter": "python",
   "pygments_lexer": "ipython3",
   "version": "3.7.6"
  }
 },
 "nbformat": 4,
 "nbformat_minor": 4
}
