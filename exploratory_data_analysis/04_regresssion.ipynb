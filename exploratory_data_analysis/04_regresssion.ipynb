{
 "cells": [
  {
   "cell_type": "code",
   "execution_count": 1,
   "metadata": {},
   "outputs": [],
   "source": [
    "import matplotlib.pyplot as plt\n",
    "from sklearn.datasets import make_regression\n",
    "from sklearn.linear_model import LinearRegression"
   ]
  },
  {
   "cell_type": "markdown",
   "metadata": {},
   "source": [
    "# Regression\n",
    "\n",
    "## Simple Linear Regression\n",
    "\n",
    "Simple linear regression models the relationship between the magnitude of one\n",
    "variable and that of a second—for example, as X increases, Y also increases. Or\n",
    "as X increases, Y decreases. Correlation is another way to measure how two\n",
    "variables are related. The difference is that while\n",
    "correlation measures the strength of an association between two variables,\n",
    "regression quantifies the nature of the relationship.\n",
    "\n",
    "### Key Terms\n",
    "\n",
    "- **Response**: The variable we are trying to predict.\n",
    "    - _Synonyms_: dependent variable, Y-variable, target, outcome\n",
    "- **Independent variable**: The variable used to predict the response.\n",
    "    - _Synonyms_: independent variable, X-variable, feature, attribute\n",
    "- **Record**: The vector of predictor and outcome values for a specific individual or case.\n",
    "    - _Synonyms_: row, case, instance, example\n",
    "- **Intercept**: The intercept of the regression line—that is, the predicted value when $X = 0$.\n",
    "    - _Synonyms_: $b_0, \\beta_0$\n",
    "- **Regression Coefficient**: The slop of the regression line.\n",
    "    - _Synonyms_: Slope, $b_1, \\beta_1$, parameter estimates, weights\n",
    "- **Fitted values**: The estimates obtained from the regression line.\n",
    "    - _Synonyms_: predicted values\n",
    "- **Residuals** The difference between the observed values and the fitted values.\n",
    "    - _Synonyms_: errors\n",
    "- **Least squares**: The method of fitting a regression by minimizing the sum of squared residuals.\n",
    "    - _Synonyms_: ordinary least squares\n",
    "    \n",
    "### Regression Equation\n",
    "\n",
    "Simple linear regression estimates exactly how much Y will change when X\n",
    "changes by a certain amount. With the correlation coefficient, the variables X\n",
    "and Y are interchangable. With regression, we are trying to predict the Y variable\n",
    "from X using a linear relationship (i.e., a line):\n",
    "\n",
    "\\begin{equation}\n",
    "Y = b_0 + b_1X\n",
    "\\end{equation}\n",
    "\n",
    "We read this as \"Y equals $b_1$ times X, plus a constant $b_0$ .” The symbol $b_0$ is\n",
    "known as the intercept (or constant), and the symbol $b_1$ as the slope for X. Both\n",
    "can be called coefficients, though in general use the term coefficient is\n",
    "often reserved for $b_1$. The Y variable is known as the response or dependent\n",
    "variable since it depends on X. The X variable is known as the predictor or\n",
    "independent variable. The machine learning community tends to use other terms,\n",
    "calling Y the target and X a feature vector.\n",
    "\n",
    "Let's look at a synthetic example below. A dataset has been created with 100\n",
    "data points, 1 feature, 1 feature being informative and one target variable."
   ]
  },
  {
   "cell_type": "code",
   "execution_count": 11,
   "metadata": {},
   "outputs": [],
   "source": [
    "x, y = make_regression(100, 1, 1, 1, noise=10)"
   ]
  },
  {
   "cell_type": "code",
   "execution_count": 12,
   "metadata": {},
   "outputs": [
    {
     "data": {
      "text/plain": [
       "<matplotlib.collections.PathCollection at 0x23177a58e88>"
      ]
     },
     "execution_count": 12,
     "metadata": {},
     "output_type": "execute_result"
    },
    {
     "data": {
      "image/png": "[encoded data removed]",
      "text/plain": [
       "<Figure size 432x288 with 1 Axes>"
      ]
     },
     "metadata": {
      "needs_background": "light"
     },
     "output_type": "display_data"
    }
   ],
   "source": [
    "plt.scatter(x, y)"
   ]
  },
  {
   "cell_type": "markdown",
   "metadata": {},
   "source": [
    "As you can see from the plot the X is clearly correlated with Y.\n",
    "But how is Y related to X?\n",
    "\n",
    "Simple linear regression tries to find the \"best\" line to predict the response Y\n",
    "as a function of the predictor variable X.\n",
    "\n",
    "\\begin{equation}\n",
    "Y = b_0 + b_1X\n",
    "\\end{equation}\n",
    "\n",
    "We can quatify the relation ship by fitting a linear model to the data:"
   ]
  },
  {
   "cell_type": "code",
   "execution_count": 15,
   "metadata": {},
   "outputs": [
    {
     "data": {
      "text/plain": [
       "(array([54.60028616]), 0.1436981938659867)"
      ]
     },
     "execution_count": 15,
     "metadata": {},
     "output_type": "execute_result"
    }
   ],
   "source": [
    "lr = LinearRegression().fit(x, y)\n",
    "lr.coef_, lr.intercept_"
   ]
  },
  {
   "cell_type": "markdown",
   "metadata": {},
   "source": [
    "The intercept or $b_0$ is 0.144 and can be interpreted as the predicted Y for when X is zero.\n",
    "The regression coefficient or $b_1$ can be interpreted as follows: for each additional unit of X\n",
    "the value of Y increases by 54.60"
   ]
  },
  {
   "cell_type": "code",
   "execution_count": 16,
   "metadata": {},
   "outputs": [
    {
     "data": {
      "text/plain": [
       "-109.056"
      ]
     },
     "execution_count": 16,
     "metadata": {},
     "output_type": "execute_result"
    }
   ],
   "source": [
    "# e.g. X = -2\n",
    "y = 0.144 + 54.60 * -2\n",
    "y"
   ]
  },
  {
   "cell_type": "code",
   "execution_count": 17,
   "metadata": {},
   "outputs": [
    {
     "data": {
      "text/plain": [
       "0.144"
      ]
     },
     "execution_count": 17,
     "metadata": {},
     "output_type": "execute_result"
    }
   ],
   "source": [
    "# e.g. X = 0\n",
    "y = 0.144 + 54.60 * 0\n",
    "y"
   ]
  },
  {
   "cell_type": "markdown",
   "metadata": {},
   "source": [
    "The regression line from this model is displayed below:"
   ]
  },
  {
   "cell_type": "code",
   "execution_count": 33,
   "metadata": {},
   "outputs": [
    {
     "data": {
      "text/plain": [
       "[<matplotlib.lines.Line2D at 0x2317b57c688>]"
      ]
     },
     "execution_count": 33,
     "metadata": {},
     "output_type": "execute_result"
    },
    {
     "data": {
      "image/png": "[encoded data removed]",
      "text/plain": [
       "<Figure size 432x288 with 1 Axes>"
      ]
     },
     "metadata": {
      "needs_background": "light"
     },
     "output_type": "display_data"
    }
   ],
   "source": [
    "plt.plot(x, lr.predict(x), color='blue', linewidth=3)"
   ]
  },
  {
   "cell_type": "markdown",
   "metadata": {},
   "source": [
    "The slope or $b_1$ can be calculated as: $b_1 = \\Delta Y / \\Delta X $ \n",
    "\n",
    "### Fitted Values and Residuals"
   ]
  },
  {
   "cell_type": "code",
   "execution_count": null,
   "metadata": {},
   "outputs": [],
   "source": []
  }
 ],
 "metadata": {
  "kernelspec": {
   "display_name": "Python 3",
   "language": "python",
   "name": "python3"
  },
  "language_info": {
   "codemirror_mode": {
    "name": "ipython",
    "version": 3
   },
   "file_extension": ".py",
   "mimetype": "text/x-python",
   "name": "python",
   "nbconvert_exporter": "python",
   "pygments_lexer": "ipython3",
   "version": "3.7.6"
  }
 },
 "nbformat": 4,
 "nbformat_minor": 4
}
