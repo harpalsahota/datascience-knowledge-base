{
 "cells": [
  {
   "cell_type": "markdown",
   "metadata": {},
   "source": [
    "# Estimates of Location\n",
    "\n",
    "Estimate of location typically try to identify where most of the data is located (i.e. its central tendency)\n",
    "\n",
    "- **Mean:** The sum of all values divided by the number of values\n",
    "    - Synonyms: Averge\n",
    "- **Weighted Mean:** The sum of all values a weight divided by the sum of all weights\n",
    "    - Synonyms: Weighted Average\n",
    "- **Median**: The value such that one-half of the data lies above and below\n",
    "    - Synonyms: 50th Percentile\n",
    "- **Weighted Median:** The value such that one-half of the sum of the weights lies above and below the sorted data\n",
    "- **Trimmed Mean:**: The average of all values after dropping a fixed number of extreme values\n",
    "    - Synonyms: Truncated Mean\n",
    "- **Robust**:  Not sensitive to extreme values\n",
    "- **Outlier**: A data value that is very different from most of the data\n",
    "    - Synonyms: Extreme Value\n",
    "    \n",
    "## Mean\n",
    "\\begin{equation}\n",
    "Mean = \\bar{x} = \\frac{\\sum_{i}^{n} x_i}{n}\n",
    "\\end{equation}\n",
    "\n",
    "## Trimmed Mean\n",
    "Calculated by removing a fixed number of sorted values at each end and then taking an average of the remaining values. $p$ in the formula below represents the number of smallest and largest values removed\n",
    "\n",
    "\\begin{equation}\n",
    "Trimmed Mean = \\bar{x} = \\frac{\\sum_{i = p + 1}^{n - p} x_i}{n - 2p}\n",
    "\\end{equation}\n",
    "\n",
    "A trimmed mean removed the influence of extreme values.\n",
    "\n",
    "## Weighted Mean\n",
    "\n",
    "Each value $x_i$ is multiplied by a weight $w_i$ and dividing their sum by the sum of the weights.\n",
    "\n",
    "\\begin{equation}\n",
    "Mean = \\bar{x_w} = \\frac{\\sum_{i=1}^{n} x_i w_i}{\\sum_i^n w_i}\n",
    "\\end{equation}\n",
    "\n",
    "Use cases:\n",
    "- Some values are intrinsically more valuable than others, and highly variable observations are given lower weight\n",
    "- The data collected does not equally represent the different groups that we are interested in measuring e.g. can give higher weights to the group that is underrepresented\n",
    "\n",
    "## Outliers\n",
    "\n",
    "Median considered robust estimate of location because it is not influenced by outliers. An outlier is any value that is very distant from the other values in a data set.\n",
    "\n",
    "## Example\n",
    "- If you wanted to calculate the average murder rate for the country, you would need to use the weighted mean or median to account for different populations in states.\n",
    "\n",
    "## Takeaways\n",
    "- Basic metric for location is the mean but it can be sensitive to extreme values\n",
    "- Other metrics such as median, trimmed mean are more robust"
   ]
  },
  {
   "cell_type": "code",
   "execution_count": null,
   "metadata": {},
   "outputs": [],
   "source": []
  }
 ],
 "metadata": {
  "kernelspec": {
   "display_name": "Python 3",
   "language": "python",
   "name": "python3"
  },
  "language_info": {
   "codemirror_mode": {
    "name": "ipython",
    "version": 3
   },
   "file_extension": ".py",
   "mimetype": "text/x-python",
   "name": "python",
   "nbconvert_exporter": "python",
   "pygments_lexer": "ipython3",
   "version": "3.7.6"
  }
 },
 "nbformat": 4,
 "nbformat_minor": 4
}
