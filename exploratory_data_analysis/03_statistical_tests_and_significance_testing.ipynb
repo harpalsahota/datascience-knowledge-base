{
 "cells": [
  {
   "cell_type": "code",
   "execution_count": 8,
   "metadata": {},
   "outputs": [],
   "source": [
    "import matplotlib.pyplot as plt\n",
    "import numpy as np\n",
    "import pandas as pd\n",
    "import scipy.stats as stats\n",
    "import seaborn as sns"
   ]
  },
  {
   "cell_type": "markdown",
   "metadata": {},
   "source": [
    "# Statistical Experiments and Significance Testing\n",
    "\n",
    "Design of experiments is a cornerstone of the practice of statistics, with\n",
    "applications in virtually all areas of research. The goal is to design an experiment\n",
    "in order to confirm or reject a hypothesis.\n",
    "\n",
    "This process starts with a hypothesis.\n",
    "An experiment is designed to test the hypothesis \n",
    "designed in such a way that, hopefully, will deliver conclusive results. The data\n",
    "is collected and analyzed, and then a conclusion is drawn. The term inference\n",
    "reflects the intention to apply the experiment results, which involve a limited set\n",
    "of data, to a larger process or population.\n",
    "\n",
    "Formulate Hypothesis &#8594; Design Experiment &#8594; Collect Data &#8594; Inference / Conclusions\n",
    "\n",
    "## A/B Testing\n",
    "\n",
    "An A/B test is an experiment with two groups to establish which of two\n",
    "treatments, products, procedures, or the like is superior. Often one of the two\n",
    "treatments is the standard existing treatment, or no treatment. If a standard (or\n",
    "no) treatment is used, it is called the control. A typical hypothesis is that\n",
    "treatment is better than control.\n",
    "\n",
    "- **Treatment**: Something (drug, price, web headline) to which a subject is exposed.\n",
    "- **Treatment group**: A group of subjects exposed to a specific treatment.\n",
    "- **Control group**: A group of subjects exposed to no (or standard) treatment.\n",
    "- **Randomization**: The process of randomly assigning subjects to treatments.\n",
    "- **Subjects**: The items (web visitors, patients, etc.) that are exposed to treatments.\n",
    "- **Test statistic**: The metric used to measure the effect of the treatment.\n",
    "\n",
    "A/B Test examples:\n",
    "- Testing two prices to determine which yields more net profit\n",
    "- If a new iteration of a model has a higher click-through rate compared to the current model\n",
    "\n",
    "A proper A/B test has subjects that can be assigned to one treatment or another.\n",
    "The subject might be a person, a plant seed, a web visitor; the key is that the\n",
    "subject is exposed to the treatment. Ideally, subjects are randomized (assigned\n",
    "randomly) to treatments. In this way, you know that any difference between the\n",
    "treatment groups is due to one of two things:\n",
    "- The effect of the different treatments\n",
    "- Luck of the draw in which subjects are assigned to which treatments (i.e., the random assignment may have resulted in the naturally better-performing subjects being concentrated in A or B)\n",
    "\n",
    "You also need to pay attention to the test statistic or metric you use to compare\n",
    "group A to group B. Perhaps the most common metric in data science is a binary\n",
    "variable: click or no-click, buy or don’t buy, fraud or no fraud, and so on. Those\n",
    "results would be summed up in a 2×2 table e.g.:\n",
    "\n",
    "| Outcome       | Model A | Model B |\n",
    "|---------------|---------|---------|\n",
    "| Conversion    | 450     | 350     |\n",
    "| No conversion | 53489   | 49278   |\n",
    "\n",
    "If the metric is a continuous variable (purchase amount, profit, etc.), or a count\n",
    "(e.g., days in hospital, pages visited) the result might be displayed differently. If\n",
    "one were interested not in conversion, but in revenue per page view, the results\n",
    "of the test in the table above could be mean revenue per page view along the top row\n",
    "and the standard deviation along the bottom.\n",
    "\n",
    "### Why Have a Control Group?\n",
    "\n",
    "Without a control group, there is no assurance that “other things are equal” and\n",
    "that any difference is really due to the treatment (or to chance). When you have a\n",
    "control group, it is subject to the same conditions (except for the treatment of\n",
    "interest) as the treatment group. If you simply make a comparison to “baseline”\n",
    "or prior experience, other factors, besides the treatment, might differ.\n",
    "\n",
    "The use of A/B testing in data science is typically in a web context. Treatments\n",
    "might be the design of a web page, the price of a product, the wording of a\n",
    "headline, or some other item. Some thought is required to preserve the principles\n",
    "of randomization. Typically the subject in the experiment is the web visitor, and\n",
    "the outcomes we are interested in measuring are clicks, purchases, visit duration,\n",
    "number of pages visited, whether a particular page is visited, and the like. In a\n",
    "standard A/B experiment, you need to decide on one metric ahead of time.\n",
    "Multiple behavior metrics might be collected and be of interest, but if the\n",
    "experiment is expected to lead to a decision between treatment A and treatment\n",
    "B, a single metric, or test statistic, needs to be established beforehand. **Selecting\n",
    "a test statistic after the experiment is conducted opens the door to researcher\n",
    "bias.**\n",
    "\n",
    "### Why Just A/B? Why Not C, D…?\n",
    "\n",
    "A/B tests are popular in the marketing and ecommerce worlds, but are far from\n",
    "the only type of statistical experiment. Additional treatments can be included.\n",
    "Subjects might have repeated measurements taken. Pharmaceutical trials where\n",
    "subjects are scarce, expensive, and acquired over time are sometimes designed\n",
    "with multiple opportunities to stop the experiment and reach a conclusion.\n",
    "\n",
    "## Hypothesis Tests\n",
    "\n",
    "Hypothesis tests, also called significance tests, are ubiquitous in the traditional\n",
    "statistical analysis of published research. **Their purpose is to help you learn\n",
    "whether random chance might be responsible for an observed effect.**\n",
    "\n",
    "- **Null hypothesis**: The hypothesis that chance is to blame.\n",
    "- **Alternative hypothesis**: Counterpoint to the null (what you hope to prove).\n",
    "- **One-way test**: Hypothesis test that counts chance results only in one direction.\n",
    "- **Two-way test**: Hypothesis test that counts chance results in two directions.\n",
    "\n",
    "An A/B test is typically constructed with a hypothesis in\n",
    "mind. For example, the hypothesis might be that price B produces higher profit.\n",
    "Why do we need a hypothesis? Why not just look at the outcome of the\n",
    "experiment and go with whichever treatment does better?\n",
    "\n",
    "The answer lies in the tendency of the human mind to underestimate the scope of\n",
    "natural random behavior. One manifestation of this is the failure to anticipate\n",
    "extreme events, or so-called \"black swans\".\n",
    "Another manifestation is the tendency to misinterpret random events as having\n",
    "patterns of some significance. Statistical hypothesis testing was invented as a\n",
    "way to protect researchers from being fooled by random chance.\n",
    "\n",
    "### The Null Hypothesis\n",
    "\n",
    "Hypothesis tests use the following logic: “Given the human tendency to react to\n",
    "unusual but random behavior and interpret it as something meaningful and real,\n",
    "in our experiments we will require proof that the difference between groups is\n",
    "more extreme than what chance might reasonably produce.” This involves a\n",
    "baseline assumption that the treatments are equivalent, and any difference\n",
    "between the groups is due to chance. This baseline assumption is termed the null\n",
    "hypothesis. Our hope is then that we can, in fact, prove the null hypothesis\n",
    "wrong, and show that the outcomes for groups A and B are more different than\n",
    "what chance might produce.\n",
    "\n",
    "One way to do this is via a resampling permutation procedure, in which we\n",
    "shuffle together the results from groups A and B and then repeatedly deal out the\n",
    "data in groups of similar sizes, then observe how often we get a difference as\n",
    "extreme as the observed difference. See \"Resampling\" for more detail.\n",
    "\n",
    "### Alternative Hypothesis\n",
    "\n",
    "Hypothesis tests by their nature involve not just a null hypothesis, but also an\n",
    "offsetting alternative hypothesis. Here are some examples:\n",
    "- Null = \"no difference between the means of group A and group B,\" alternative = \"A is different from B\" (could be bigger or smaller)\n",
    "- Null = \"A <= B,\" alternative = \"B > A\"\n",
    "- Null = \"B is not X% greater than A,\" alternative = \"B is X% greater than A\"\n",
    "\n",
    "### One-Way, Two-Way Hypothesis Test\n",
    "\n",
    "Often, in an A/B test, you are testing a new option (say B), against an established\n",
    "default option (A) and the presumption is that you will stick with the default\n",
    "option unless the new option proves itself definitively better. In such a case, you\n",
    "want a hypothesis test to protect you from being fooled by chance in the\n",
    "direction favoring B. You don’t care about being fooled by chance in the other\n",
    "direction, because you would be sticking with A unless B proves definitively\n",
    "better. So you want a directional alternative hypothesis (B is better than A). In\n",
    "such a case, you use a _one-way_ (or one-tail) hypothesis test. This means that\n",
    "extreme chance results in only one direction direction count toward the p-value.\n",
    "\n",
    "If you want a hypothesis test to protect you from being fooled by chance in\n",
    "either direction, the alternative hypothesis is bidirectional (A is different from B;\n",
    "could be bigger or smaller). In such a case, you use a two-way (or two-tail)\n",
    "hypothesis. This means that extreme chance results in either direction count\n",
    "toward the p-value.\n",
    "\n",
    "A one-tail hypothesis test often fits the nature of A/B decision making, in which\n",
    "a decision is required and one option is typically assigned \"default\" status unless\n",
    "the other proves better. Software, however, including R, typically provides a\n",
    "two-tail test in its default output, and many statisticians opt for the more\n",
    "conservative two-tail test just to avoid argument. One-tail versus two-tail is a\n",
    "confusing subject, and not that relevant for data science, where the precision of\n",
    "p-value calculations is not terribly important.\n",
    "\n",
    "### Key Takeaways\n",
    "\n",
    "- A null hypothesis is a logical construct embodying the notion that nothing special has happened, and any effect you observe is due to random chance.\n",
    "- The hypothesis test assumes that the null hypothesis is true, creates a \"null model\" (a probability model), and tests whether the effect you observe is a reasonable outcome of that model.\n",
    "\n",
    "## Resampling\n",
    "\n",
    "Resampling in statistics means to repeatedly sample values from observed data,\n",
    "with a general goal of assessing random variability in a statistic. It can also be\n",
    "used to assess and improve the accuracy of some machine-learning models (e.g. bagging in random forest models)\n",
    "\n",
    "There are two main types of resampling procedures: the bootstrap and\n",
    "permutation tests. The bootstrap is used to assess the reliability of an estimate; it\n",
    "was discussed in the previous chapter (see previously). Permutation tests\n",
    "are used to test hypotheses, typically involving two or more groups, and we\n",
    "discuss those in this section.\n",
    "\n",
    "- **Permutation test**: The procedure of combining two or more samples together, and randomly (or exhaustively) reallocating the observations to resamples.\n",
    "    - _Synonyms_: Randomization test, random permutation test, exact test.\n",
    "- **With or without replacement**: In sampling, whether or not an item is returned to the sample before the next draw.\n",
    " ### Permutation Test\n",
    " \n",
    "In a permutation procedure, two or more samples are involved, typically the\n",
    "groups in an A/B or other hypothesis test. Permute means to change the order of\n",
    "a set of values. The first step in a permutation test of a hypothesis is to combine\n",
    "the results from groups A and B (and, if used, C, D, ...) together. This is the\n",
    "logical embodiment of the null hypothesis that the treatments to which the\n",
    "groups were exposed do not differ. We then test that hypothesis by randomly\n",
    "drawing groups from this combined set, and seeing how much they differ from\n",
    "one another. The permutation procedure is as follows:\n",
    "\n",
    "1. Combine the results from the different groups in a single data set.\n",
    "2. Shuffle the combined data, then randomly draw (without replacing) a resample of the same size as group A.\n",
    "3. From the remaining data, randomly draw (without replacing) a resample of the same size as group B.\n",
    "4. Do the same for groups C, D, and so on.\n",
    "5. Whatever statistic or estimate was calculated for the original samples (e.g., difference in group proportions), calculate it now for the resamples, and record; this constitutes one permutation iteration.\n",
    "6. Repeat the previous steps R times to yield a permutation distribution of the test statistic.\n",
    "\n",
    "**Now go back to the observed difference between groups and compare it to the\n",
    "set of permuted differences. If the observed difference lies well within the set of\n",
    "permuted differences, then we have not proven anything—the observed\n",
    "difference is within the range of what chance might produce. However, if the\n",
    "observed difference lies outside most of the permutation distribution, then we\n",
    "conclude that chance is not responsible. In technical terms, the difference is\n",
    "statistically significant (p-values are further down)**\n",
    "\n",
    "### Example\n",
    "\n",
    "We have two varients of a web page and want to determine if one varient performs better than the other. We have one varient called `session_a` and another called `session_b` with both containing 200 session times:"
   ]
  },
  {
   "cell_type": "code",
   "execution_count": 25,
   "metadata": {},
   "outputs": [],
   "source": [
    "session_a = np.random.normal(100, 50, 200)\n",
    "session_b = np.random.normal(130, 75, 200)\n",
    "\n",
    "df = pd.DataFrame({\n",
    "    'session_name': np.hstack([['session_a'] * 200, ['session_b'] * 200]),\n",
    "    'session_length': np.hstack([session_a, session_b]),\n",
    "})"
   ]
  },
  {
   "cell_type": "markdown",
   "metadata": {},
   "source": [
    "Plot the the boxplot for each session group:"
   ]
  },
  {
   "cell_type": "code",
   "execution_count": 26,
   "metadata": {},
   "outputs": [
    {
     "data": {
      "text/plain": [
       "<AxesSubplot:xlabel='session_name', ylabel='session_length'>"
      ]
     },
     "execution_count": 26,
     "metadata": {},
     "output_type": "execute_result"
    },
    {
     "data": {
      "image/png": "[encoded data removed]",
      "text/plain": [
       "<Figure size 432x288 with 1 Axes>"
      ]
     },
     "metadata": {
      "needs_background": "light"
     },
     "output_type": "display_data"
    }
   ],
   "source": [
    "sns.boxplot(data=df, x='session_name', y='session_length')"
   ]
  },
  {
   "cell_type": "markdown",
   "metadata": {},
   "source": [
    "We can see that `session_b` has a higher mean session time but a much wider spread. What are the mean of the two sessions:"
   ]
  },
  {
   "cell_type": "code",
   "execution_count": 27,
   "metadata": {},
   "outputs": [
    {
     "data": {
      "text/plain": [
       "session_name\n",
       "session_a     98.738597\n",
       "session_b    132.397559\n",
       "Name: session_length, dtype: float64"
      ]
     },
     "execution_count": 27,
     "metadata": {},
     "output_type": "execute_result"
    }
   ],
   "source": [
    "df.groupby('session_name')['session_length'].mean()"
   ]
  },
  {
   "cell_type": "code",
   "execution_count": 28,
   "metadata": {},
   "outputs": [
    {
     "data": {
      "text/plain": [
       "33.658962"
      ]
     },
     "execution_count": 28,
     "metadata": {},
     "output_type": "execute_result"
    }
   ],
   "source": [
    "132.397559 - 98.738597"
   ]
  },
  {
   "cell_type": "markdown",
   "metadata": {},
   "source": [
    "Users shown the `session_b` varient on average spend 33.66 seconds longer on the web page compared to the `session_a` varient but is this significant? One way to do this is to apply a permutation test by combining all the session times together, then repeatedly shuffle and divide them into groups sizes that represent the original group sizes."
   ]
  },
  {
   "cell_type": "code",
   "execution_count": 31,
   "metadata": {},
   "outputs": [],
   "source": [
    "# Code below shuffles the sessions times 1,000 times and splits the data into sizes equal to original group sizes (here 200 in each group)\n",
    "# The mean between the two groups is taken and stored.\n",
    "\n",
    "mean_diffs = []\n",
    "\n",
    "all_session_values = df.session_length.values\n",
    "for _ in range(1000):\n",
    "    np.random.shuffle(all_session_values)\n",
    "    prime_session_a = all_session_values[:200]\n",
    "    prime_session_b = all_session_values[200:]\n",
    "    mean_diffs.append(prime_session_b - prime_session_a)"
   ]
  },
  {
   "cell_type": "markdown",
   "metadata": {},
   "source": [
    "Plot the `mean_diff` distribution with the actual mean difference plotted in orange"
   ]
  },
  {
   "cell_type": "code",
   "execution_count": 34,
   "metadata": {},
   "outputs": [
    {
     "data": {
      "text/plain": [
       "<matplotlib.lines.Line2D at 0x2af96391c88>"
      ]
     },
     "execution_count": 34,
     "metadata": {},
     "output_type": "execute_result"
    },
    {
     "data": {
      "image/png": "[encoded data removed]",
      "text/plain": [
       "<Figure size 432x288 with 1 Axes>"
      ]
     },
     "metadata": {
      "needs_background": "light"
     },
     "output_type": "display_data"
    }
   ],
   "source": [
    "sns.distplot(mean_diffs)\n",
    "plt.axvline(132.397559 - 98.738597, linestyle='--', color='orange', ymax=1.0)"
   ]
  },
  {
   "cell_type": "markdown",
   "metadata": {},
   "source": [
    "The historgram shows the mean difference of random permutation often exceeds the observed difference in session times (orange line). This suggests that the observed difference on session time between the two varients is well within the range of chance variation, this likely **not** statistically significant.\n",
    "\n",
    "## Exhaustive and Bootstrap Permutation Test\n",
    "\n",
    "In addition to the preceding random shuffling procedure, also called a random\n",
    "permutation test or a randomization test, there are two variants of the\n",
    "permutation test:\n",
    "\n",
    "- An exhaustive permutation test\n",
    "- A bootstrap permutation test\n",
    "\n",
    "In an exhaustive permutation test, instead of just randomly shuffling and\n",
    "dividing the data, we actually figure out all the possible ways it could be divided.\n",
    "This is practical only for relatively small sample sizes. With a large number of\n",
    "repeated shufflings, the random permutation test results approximate those of the\n",
    "exhaustive permutation test, and approach them in the limit. Exhaustive\n",
    "permutation tests are also sometimes called exact tests, due to their statistical\n",
    "property of guaranteeing that the null model will not test as “significant” more\n",
    "than the alpha level of the test.\n",
    "\n",
    "In a bootstrap permutation test, the draws outlined in steps 2 and 3 of the random\n",
    "permutation test are made with replacement instead of without replacement. In\n",
    "this way the resampling procedure models not just the random element in the\n",
    "assignment of treatment to subject, but also the random element in the selection\n",
    "of subjects from a population.\n",
    "\n",
    "## Permutation Tests: The Bottom Line for Data Science\n",
    "\n",
    "Permutation tests are useful heuristic procedures for exploring the role of\n",
    "random variation. They are relatively easy to code, interpret and explain, and\n",
    "they offer a useful detour around the formalism and \"false determinism\" of\n",
    "formula-based statistics.\n",
    "\n",
    "One virtue of resampling, in contrast to formula approaches, is that it comes\n",
    "much closer to a \"one size fits all\" approach to inference. Data can be numeric or\n",
    "binary. Sample sizes can be the same or different. Assumptions about normallydistributed\n",
    "data are not needed.\n",
    "\n",
    "### Key Takeaways\n",
    "\n",
    "- In a permutation test, multiple samples are combined, then shuffled.\n",
    "- The shuffled values are then divided into resamples, and the statistic of interest is calculated.\n",
    "- This process is then repeated, and the resampled statistic is tabulated.\n",
    "- Comparing the observed value of the statistic to the resampled distribution allows you to judge whether an observed difference between samples might occur by chance.\n",
    "\n",
    "## Statistical Significance and P-Values\n",
    "\n",
    "Statistical significance is how statisticians measure whether an experiment (or even a study of existing data) yields a result more extreme than what chance might produce.\n",
    "\n",
    "**P-value**: Given a chance model that embodies the null hypothesis, the p-value is the probability of obtaining results as unusual or extreme as the observed results.\n",
    "**Alpha**: The probability threshold of \"unusualness\" that chance results must surpass, for actual outcomes to be deemed statistically significant.\n",
    "**Type 1 error**: Mistakenly concluding an effect is real (when it is due to chance).\n",
    "**Type 2 error**: Mistakenly concluding an effect is due to chance (when it is real).\n",
    "\n",
    "We can test whether the difference in\n",
    "conversions between two prices A and B is within the range of chance variation,\n",
    "using a resampling procedure. The difference between the two conversion rates is 5%.\n",
    "By \"chance variation,\" we mean the random\n",
    "variation produced by a probability model that embodies the null hypothesis that\n",
    "there is no difference between the rates. The\n",
    "following permutation procedure asks \"if the two prices share the same\n",
    "conversion rate, could chance variation produce a difference as big as 5%?\"\n",
    "\n",
    "1. Create an urn with all sample results: this represents the supposed shared conversion rate of ones for all conversions and zeroes for all non-conversions\n",
    "2. Shuffle and draw out a resample of equal size to varient A, and record how many 1s.\n",
    "3. Record the number of 1s in the remaining varient (B).\n",
    "4. Record the difference in proportion 1s.\n",
    "5. Repeat steps 2–4.\n",
    "6. How often was the difference >= the observed difference in the actual test?\n",
    "\n",
    "Let's run through an example with the following data:\n",
    "\n",
    "| Outcome       | Price A | Price B |\n",
    "|---------------|---------|---------|\n",
    "| Conversion    | 450     | 350     |\n",
    "| No conversion | 53489   | 49278   |"
   ]
  },
  {
   "cell_type": "code",
   "execution_count": 6,
   "metadata": {},
   "outputs": [
    {
     "name": "stdout",
     "output_type": "stream",
     "text": [
      "Price A conversion rate: 0.84\n",
      "Price A conversion rate: 0.71\n"
     ]
    }
   ],
   "source": [
    "print(f'Price A conversion rate: {450 / 53489 * 100:.2f}')\n",
    "print(f'Price B conversion rate: {350 / 49278 * 100:.2f}')"
   ]
  },
  {
   "cell_type": "markdown",
   "metadata": {},
   "source": [
    "Conversion rate difference:"
   ]
  },
  {
   "cell_type": "code",
   "execution_count": 7,
   "metadata": {},
   "outputs": [
    {
     "data": {
      "text/plain": [
       "0.13"
      ]
     },
     "execution_count": 7,
     "metadata": {},
     "output_type": "execute_result"
    }
   ],
   "source": [
    "0.84 - 0.71"
   ]
  },
  {
   "cell_type": "markdown",
   "metadata": {},
   "source": [
    "A difference of 0.13 percentage points. Is this difference significant? Let's find out with a permutation test:"
   ]
  },
  {
   "cell_type": "code",
   "execution_count": 12,
   "metadata": {},
   "outputs": [
    {
     "data": {
      "text/plain": [
       "(array([1, 1, 1, ..., 0, 0, 0]), (103567,))"
      ]
     },
     "execution_count": 12,
     "metadata": {},
     "output_type": "execute_result"
    }
   ],
   "source": [
    "# Generate urn of ones and zeroes\n",
    "ones = [1] * (450 + 350)\n",
    "zeros = [0] * (53489 + 49278)\n",
    "\n",
    "a_size = 450 + 53489\n",
    "b_size = 350 + 49278\n",
    "\n",
    "urn = np.hstack([ones, zeros])\n",
    "urn, urn.shape"
   ]
  },
  {
   "cell_type": "markdown",
   "metadata": {},
   "source": [
    "Run the permutation test as described above:"
   ]
  },
  {
   "cell_type": "code",
   "execution_count": 24,
   "metadata": {},
   "outputs": [],
   "source": [
    "mean_diffs = []\n",
    "\n",
    "for _ in range(1000):\n",
    "    np.random.shuffle(urn)\n",
    "    price_a_resample = urn[:a_size]\n",
    "    price_b_resample = urn[a_size:]\n",
    "    \n",
    "    a_conversions = np.sum(price_a_resample == 1) / a_size * 100\n",
    "    b_conversions = np.sum(price_b_resample == 1) / b_size * 100\n",
    "    \n",
    "    mean_diffs.append(a_conversions - b_conversions)"
   ]
  },
  {
   "cell_type": "markdown",
   "metadata": {},
   "source": [
    "Plot the histogram of conversion differences with actual (observed) difference plotted with an orange line:"
   ]
  },
  {
   "cell_type": "code",
   "execution_count": 25,
   "metadata": {},
   "outputs": [
    {
     "data": {
      "text/plain": [
       "<matplotlib.lines.Line2D at 0x21aff6d6dc8>"
      ]
     },
     "execution_count": 25,
     "metadata": {},
     "output_type": "execute_result"
    },
    {
     "data": {
      "image/png": "[encoded data removed]",
      "text/plain": [
       "<Figure size 432x288 with 1 Axes>"
      ]
     },
     "metadata": {
      "needs_background": "light"
     },
     "output_type": "display_data"
    }
   ],
   "source": [
    "sns.distplot(mean_diffs)\n",
    "plt.axvline(0.13, linestyle='--', color='orange', ymax=1.0)"
   ]
  },
  {
   "cell_type": "markdown",
   "metadata": {},
   "source": [
    "The observed difference is well outside the range of change variation, but is it significant? This will be quantified in the next section.\n",
    "\n",
    "### P-Value\n",
    "\n",
    "Simply looking at the graph is not a very precise way to measure statistical\n",
    "significance, so of more interest is the _p-value_. This is the frequency with which\n",
    "the chance model produces a result more extreme than the observed result.\n",
    "We can estimate a p-value from our permutation test by taking the proportion of\n",
    "times that the permutation test produces a difference equal to or greater than the\n",
    "observed difference:"
   ]
  },
  {
   "cell_type": "code",
   "execution_count": 27,
   "metadata": {},
   "outputs": [
    {
     "data": {
      "text/plain": [
       "0.008"
      ]
     },
     "execution_count": 27,
     "metadata": {},
     "output_type": "execute_result"
    }
   ],
   "source": [
    "# p-value\n",
    "np.mean(np.array(mean_diffs) > 0.13)"
   ]
  },
  {
   "cell_type": "markdown",
   "metadata": {},
   "source": [
    "A p-value of 0.008 meaning that we would expect to achieve a result as\n",
    "extreme as this, or more extreme, by random chance over 0.8% of the time.\n",
    "\n",
    "We can also determine if the difference is signficiant by calculating the 95th percentile.\n",
    "By taking the 95 percentile we obtain a value at which the observed difference becomes significant.\n",
    "If the observed difference 0.13 is greater than the value below then it is significant."
   ]
  },
  {
   "cell_type": "code",
   "execution_count": 32,
   "metadata": {},
   "outputs": [
    {
     "data": {
      "text/plain": [
       "0.08647040370911874"
      ]
     },
     "execution_count": 32,
     "metadata": {},
     "output_type": "execute_result"
    }
   ],
   "source": [
    "np.percentile(mean_diffs, 95)"
   ]
  },
  {
   "cell_type": "markdown",
   "metadata": {},
   "source": [
    "0.13 is greater than 0.086 meaning the result is significantly different.\n",
    "\n",
    "### Alpha\n",
    "\n",
    "Statisticians frown on the practice of leaving it to the researcher’s discretion to\n",
    "determine whether a result is “too unusual” to happen by chance. Rather, a\n",
    "threshold is specified in advance, as in \"more extreme than 5% of the chance\n",
    "(null hypothesis) results\"; this threshold is known as alpha. Typical alpha levels\n",
    "are 5% and 1%. Any chosen level is an arbitrary decision—there is nothing\n",
    "about the process that will guarantee correct decisions x% of the time. This is\n",
    "because the probability question being answered is not \"what is the probability\n",
    "that this happened by chance?\" but rather **“given a chance model, what is the\n",
    "probability of a result this extreme?”** We then deduce backward about the\n",
    "appropriateness of the chance model, but that judgment does not carry a\n",
    "probability. This point has been the subject of much confusion.\n",
    "\n",
    "#### Value of the P-Value\n",
    "\n",
    "The real problem is that people want more meaning from the p-value than it\n",
    "contains. Here’s what we would like the p-value to convey:\n",
    "\n",
    "_The probability that the result is due to chance._\n",
    "\n",
    "We hope for a low value, so we can conclude that we’ve proved something. This\n",
    "is how many journal editors were interpreting the p-value. But here’s what the pvalue\n",
    "actually represents:\n",
    "\n",
    "_The probability that, given a chance model, results as extreme as the observed results could occur._\n",
    "\n",
    "The difference is subtle, but real. A significant p-value does not carry you quite\n",
    "as far along the road to \"proof\" as it seems to promise. The logical foundation\n",
    "for the conclusion “statistically significant” is somewhat weaker when the real\n",
    "meaning of the p-value is understood.\n",
    "\n",
    "The ASA statement stressed six principles for researchers and journal editors:\n",
    "\n",
    "1. P-values can indicate how incompatible the data are with a specified statistical model.\n",
    "2. P-values do not measure the probability that the studied hypothesis is true, or the probability that the data were produced by random chance alone.\n",
    "3. Scientific conclusions and business or policy decisions should not be based only on whether a p-value passes a specific threshold.\n",
    "4. Proper inference requires full reporting and transparency.\n",
    "5. A p-value, or statistical significance, does not measure the size of an effect or the importance of a result.\n",
    "6. By itself, a p-value does not provide a good measure of evidence regarding a model or hypothesis.\n",
    "\n",
    "### Type 1 and Type 2 Errors\n",
    "\n",
    "- Type 1 error, in which you mistakenly conclude an effect is real, when it is really just due to chance\n",
    "- Type 2 error, in which you mistakenly conclude that an effect is not real (i.e., due to chance), when it really is real\n",
    "\n",
    "The basic function of significance tests (also called hypothesis tests) is to protect\n",
    "against being fooled by random chance; thus they are typically structured to\n",
    "minimize Type 1 errors.\n",
    "\n",
    "### Data Science and P-Values\n",
    "For a data scientist, a p-value is a useful metric in situations where\n",
    "you want to know whether a model result that appears interesting and useful is\n",
    "within the range of normal chance variability. As a decision tool in an\n",
    "experiment, a p-value should not be considered controlling, but merely another\n",
    "point of information bearing on a decision. For example, p-values are sometimes\n",
    "used as intermediate inputs in some statistical or machine learning models—a\n",
    "feature night be included in or excluded from a model depending on its p-value.\n",
    "\n",
    "### Key Takeaways\n",
    "\n",
    "- Significance tests are used to determine whether an observed effect is within the range of chance variation for a null hypothesis model.\n",
    "- The p-value is the probability that results as extreme as the observed results might occur, given a null hypothesis model.\n",
    "- The alpha value is the threshold of “unusualness” in a null hypothesis chance model.\n",
    "- Significance testing has been much more relevant for formal reporting of research than for data science (but has been fading recently, even for the former).\n",
    "\n",
    "## t-Tests\n",
    "\n",
    "**Test statistic**: A metric for the difference or effect of interest.\n",
    "**t-statistic**: A standardized version of the test statistic.\n",
    "**t-distribution**: A reference distribution (in this case derived from the null hypothesis), to which the observed t-statistic can be compared.\n",
    "\n",
    "All significance tests require that you specify a test statistic to measure the effect\n",
    "you are interested in, and help you determine whether that observed effect lies\n",
    "within the range of normal chance variation. In a resampling test (e.g. Permutation Test), the scale of the data does not\n",
    "matter. You create the reference (null hypothesis) distribution from the data\n",
    "itself, and use the test statistic as is.\n",
    "\n",
    "Back in the day we didn't have the computation power to perform shuffle thousands of times\n",
    "to do the permutation test. A good approximation to the permutation (shuffled)\n",
    "distribution was the t-test, based on Gossett’s t-distribution. It is used for the\n",
    "very common two-sample comparison—A/B test—in which the data is numeric.\n",
    "But in order for the t-distribution to be used without regard to scale, a\n",
    "standardized form of the test statistic must be used.\n",
    "\n",
    "Many python tools can perform t-tests e.g. scipy\n",
    "\n",
    "## Multiple Testing\n",
    "\n",
    "As we’ve mentioned previously, there is a saying in statistics: **\"torture the data\n",
    "long enough, and it will confess.\"** This means that if you look at the data through\n",
    "enough different perspectives, and ask enough questions, you can almost\n",
    "invariably find a statistically significant effect.\n",
    "\n",
    "- **Type 1 error**: Mistakenly concluding that an effect is statistically significant.\n",
    "- **False discovery rate**: Across multiple tests, the rate of making a Type 1 error.\n",
    "- **Adjustment of p-values**: Accounting for doing multiple tests on the same data.\n",
    "- **Overfitting**: Fitting the noise.\n",
    "\n",
    "For example, if you have 20 predictor variables and one outcome variable, all\n",
    "randomly generated, the odds are pretty good that at least one predictor will\n",
    "(falsely) turn out to be statistically significant if you do a series of 20\n",
    "significance tests at the alpha = 0.05 level. This is a Type 1 error.\n",
    "The probability that\n",
    "one will correctly test nonsignificant is 0.95, so the probability that all 20 will\n",
    "correctly test nonsignificant is: $0.95 \\times 0.95 \\times 0.95 ... $ or $0.95^{20}$"
   ]
  },
  {
   "cell_type": "code",
   "execution_count": 2,
   "metadata": {},
   "outputs": [
    {
     "data": {
      "text/plain": [
       "0.3584859224085419"
      ]
     },
     "execution_count": 2,
     "metadata": {},
     "output_type": "execute_result"
    }
   ],
   "source": [
    "0.95**20"
   ]
  },
  {
   "cell_type": "markdown",
   "metadata": {},
   "source": [
    "The probability that at least one predictor will (falsely) test significant is the flip side\n",
    "of this probability, or 1 – (probability that all will be nonsignificant):"
   ]
  },
  {
   "cell_type": "code",
   "execution_count": 3,
   "metadata": {},
   "outputs": [
    {
     "data": {
      "text/plain": [
       "0.6415140775914581"
      ]
     },
     "execution_count": 3,
     "metadata": {},
     "output_type": "execute_result"
    }
   ],
   "source": [
    "1 - (0.95**20)"
   ]
  },
  {
   "cell_type": "markdown",
   "metadata": {},
   "source": [
    "This issue is related to the problem of overfitting in data mining, or “fitting the\n",
    "model to the noise.” The more variables you add, or the more models you run,\n",
    "the greater the probability that something will emerge as “significant” just by\n",
    "chance.\n",
    "\n",
    "In supervised learning tasks, a holdout set where models are assessed on data\n",
    "that the model has not seen before mitigates this risk. In statistical and machine\n",
    "learning tasks not involving a labeled holdout set, the risk of reaching\n",
    "conclusions based on statistical noise persists.\n",
    "\n",
    "In statistics, there are some procedures intended to deal with this problem in very\n",
    "specific circumstances. For example, if you are comparing results across\n",
    "multiple treatment groups you might ask multiple questions. So, for treatments\n",
    "A–C, you might ask:\n",
    "\n",
    "- Is A different from B?\n",
    "- Is B different from C?\n",
    "- Is A different from C?\n",
    "\n",
    "With each question, you are increasing the chance of being fooled by chance.\n",
    "\n",
    "However, the problem of multiple comparisons goes beyond these highly\n",
    "structured cases and is related to the phenomenon of repeated data “dredging”\n",
    "that gives rise to the saying about torturing the data. Put another way, given\n",
    "sufficiently complex data, if you haven’t found something interesting, you\n",
    "simply haven’t looked long and hard enough. This gives rise to lots of opportunities to find something\n",
    "interesting in the data, including multiplicity issues such as:\n",
    "- Checking for multiple pairwise differences across groups\n",
    "- Looking at multiple subgroup results (\"we found no significant treatment effect overall, but we did find an effect for unmarried women younger than 30\")\n",
    "- Trying lots of statistical models\n",
    "- Including lots of variables in models\n",
    "- Asking a number of different questions (i.e., different possible outcomes)\n",
    "\n",
    "For a variety of reasons, including especially this general issue of “multiplicity,”\n",
    "more research does not necessarily mean better research. Studies have found that\n",
    "nearly two-thirds of experiments could not be successfully replicated.\n",
    "\n",
    "In any case, the adjustment procedures for highly defined and structured\n",
    "statistical tests are too specific and inflexible to be of general use to data\n",
    "scientists. The bottom line for data scientists on multiplicity is:\n",
    "\n",
    "- For predictive modeling, the risk of getting an illusory model whose apparent efficacy is largely a product of random chance is mitigated by crossvalidation (see \"Cross-Validation\"), and use of a holdout sample.\n",
    "- For other procedures without a labeled holdout set to check the model, you must rely on:\n",
    "    - Awareness that the more you query and manipulate the data, the greater the role that chance might play; and\n",
    "    - Resampling and simulation heuristics to provide random chance benchmarks against which observed results can be compared.\n",
    "    \n",
    "### Key Takeaways\n",
    "\n",
    "- Multiplicity in a research study or data mining project (multiple comparisons, many variables, many models, etc.) increases the risk of concluding that something is significant just by chance.\n",
    "- For situations involving multiple statistical comparisons (i.e., multiple tests of significance) there are statistical adjustment procedures.\n",
    "- In a data mining situation, use of a holdout sample with labeled outcome variables can help avoid misleading results."
   ]
  },
  {
   "cell_type": "code",
   "execution_count": null,
   "metadata": {},
   "outputs": [],
   "source": []
  }
 ],
 "metadata": {
  "kernelspec": {
   "display_name": "Python 3",
   "language": "python",
   "name": "python3"
  },
  "language_info": {
   "codemirror_mode": {
    "name": "ipython",
    "version": 3
   },
   "file_extension": ".py",
   "mimetype": "text/x-python",
   "name": "python",
   "nbconvert_exporter": "python",
   "pygments_lexer": "ipython3",
   "version": "3.7.6"
  }
 },
 "nbformat": 4,
 "nbformat_minor": 4
}
