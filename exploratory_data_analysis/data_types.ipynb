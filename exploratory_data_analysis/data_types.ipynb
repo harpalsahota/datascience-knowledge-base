{
 "cells": [
  {
   "cell_type": "markdown",
   "metadata": {},
   "source": [
    "## Structured Data\n",
    "\n",
    "This form of data can come from many sources such as evetns, images, text, sensors, etc...\n",
    "\n",
    "- **Continuous**: Data that can take on any value in an interval\n",
    "    - synonyms: float, numeric\n",
    "- **Discrete**: Data that can only take integer values\n",
    "    - synonyms: integer\n",
    "- **Categorical**: Data that can be from a set of values representing possible categories\n",
    "    - synonyms: factors, enums, polychotomous\n",
    "- **Binary**: An example of categorical data, where there are just two categories (0, 1)\n",
    "    - synonyms: logical, boolean\n",
    "- **Ordinal**: Categorical data that has a specific ordering\n",
    "    - synonyms: ordered factor\n",
    "- **Numerical**: This can be continuous or discrete data\n",
    "\n",
    "Data types are important because it help determine the type of analysis to be done, type of visual display and what statistical model to use\n",
    "\n",
    "## Rectangular Data\n",
    "\n",
    "- **Data Frame**: Basic structure for statistical analysis and modelling. Similar to a spreadsheet.\n",
    "- **Feature**: A column in the table / data frame is referred to as a feature\n",
    "- **Outcome**: Many projects will involve predicting the outcome. The features of the data frame can be used to achieve this\n",
    "    - synonyms: dependent variable, response, target, output\n",
    "- **Records**: A row in the table / data frame\n",
    "    - synonyms: case, example, instance, observation, pattern, sample\n",
    "    \n",
    "Rectangular data is essentially a 2D matrix where the rows and records and the columns are features. Data doesn't always start in this form but can be manipulated to be.\n",
    "\n",
    "## Unstructured Data\n",
    "\n",
    "There are many forms of unstructured data some of them are:\n",
    "- **Spatial**: An example would be mapping a house to its spatial coordinates\n",
    "- **Graph**: A form of data structure to represent abstract relationships e.g. a social network."
   ]
  }
 ],
 "metadata": {
  "kernelspec": {
   "display_name": "Python 3",
   "language": "python",
   "name": "python3"
  },
  "language_info": {
   "codemirror_mode": {
    "name": "ipython",
    "version": 3
   },
   "file_extension": ".py",
   "mimetype": "text/x-python",
   "name": "python",
   "nbconvert_exporter": "python",
   "pygments_lexer": "ipython3",
   "version": "3.7.6"
  }
 },
 "nbformat": 4,
 "nbformat_minor": 4
}
